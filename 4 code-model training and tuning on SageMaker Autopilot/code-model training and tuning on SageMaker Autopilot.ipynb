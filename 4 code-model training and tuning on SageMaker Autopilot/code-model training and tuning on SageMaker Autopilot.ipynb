{
  "metadata": {
    "availableInstances": [
      {
        "_defaultOrder": 0,
        "_isFastLaunch": true,
        "category": "General purpose",
        "gpuNum": 0,
        "hideHardwareSpecs": false,
        "memoryGiB": 4,
        "name": "ml.t3.medium",
        "vcpuNum": 2
      },
      {
        "_defaultOrder": 1,
        "_isFastLaunch": false,
        "category": "General purpose",
        "gpuNum": 0,
        "hideHardwareSpecs": false,
        "memoryGiB": 8,
        "name": "ml.t3.large",
        "vcpuNum": 2
      },
      {
        "_defaultOrder": 2,
        "_isFastLaunch": false,
        "category": "General purpose",
        "gpuNum": 0,
        "hideHardwareSpecs": false,
        "memoryGiB": 16,
        "name": "ml.t3.xlarge",
        "vcpuNum": 4
      },
      {
        "_defaultOrder": 3,
        "_isFastLaunch": false,
        "category": "General purpose",
        "gpuNum": 0,
        "hideHardwareSpecs": false,
        "memoryGiB": 32,
        "name": "ml.t3.2xlarge",
        "vcpuNum": 8
      },
      {
        "_defaultOrder": 4,
        "_isFastLaunch": true,
        "category": "General purpose",
        "gpuNum": 0,
        "hideHardwareSpecs": false,
        "memoryGiB": 8,
        "name": "ml.m5.large",
        "vcpuNum": 2
      },
      {
        "_defaultOrder": 5,
        "_isFastLaunch": false,
        "category": "General purpose",
        "gpuNum": 0,
        "hideHardwareSpecs": false,
        "memoryGiB": 16,
        "name": "ml.m5.xlarge",
        "vcpuNum": 4
      },
      {
        "_defaultOrder": 6,
        "_isFastLaunch": false,
        "category": "General purpose",
        "gpuNum": 0,
        "hideHardwareSpecs": false,
        "memoryGiB": 32,
        "name": "ml.m5.2xlarge",
        "vcpuNum": 8
      },
      {
        "_defaultOrder": 7,
        "_isFastLaunch": false,
        "category": "General purpose",
        "gpuNum": 0,
        "hideHardwareSpecs": false,
        "memoryGiB": 64,
        "name": "ml.m5.4xlarge",
        "vcpuNum": 16
      },
      {
        "_defaultOrder": 8,
        "_isFastLaunch": false,
        "category": "General purpose",
        "gpuNum": 0,
        "hideHardwareSpecs": false,
        "memoryGiB": 128,
        "name": "ml.m5.8xlarge",
        "vcpuNum": 32
      },
      {
        "_defaultOrder": 9,
        "_isFastLaunch": false,
        "category": "General purpose",
        "gpuNum": 0,
        "hideHardwareSpecs": false,
        "memoryGiB": 192,
        "name": "ml.m5.12xlarge",
        "vcpuNum": 48
      },
      {
        "_defaultOrder": 10,
        "_isFastLaunch": false,
        "category": "General purpose",
        "gpuNum": 0,
        "hideHardwareSpecs": false,
        "memoryGiB": 256,
        "name": "ml.m5.16xlarge",
        "vcpuNum": 64
      },
      {
        "_defaultOrder": 11,
        "_isFastLaunch": false,
        "category": "General purpose",
        "gpuNum": 0,
        "hideHardwareSpecs": false,
        "memoryGiB": 384,
        "name": "ml.m5.24xlarge",
        "vcpuNum": 96
      },
      {
        "_defaultOrder": 12,
        "_isFastLaunch": false,
        "category": "General purpose",
        "gpuNum": 0,
        "hideHardwareSpecs": false,
        "memoryGiB": 8,
        "name": "ml.m5d.large",
        "vcpuNum": 2
      },
      {
        "_defaultOrder": 13,
        "_isFastLaunch": false,
        "category": "General purpose",
        "gpuNum": 0,
        "hideHardwareSpecs": false,
        "memoryGiB": 16,
        "name": "ml.m5d.xlarge",
        "vcpuNum": 4
      },
      {
        "_defaultOrder": 14,
        "_isFastLaunch": false,
        "category": "General purpose",
        "gpuNum": 0,
        "hideHardwareSpecs": false,
        "memoryGiB": 32,
        "name": "ml.m5d.2xlarge",
        "vcpuNum": 8
      },
      {
        "_defaultOrder": 15,
        "_isFastLaunch": false,
        "category": "General purpose",
        "gpuNum": 0,
        "hideHardwareSpecs": false,
        "memoryGiB": 64,
        "name": "ml.m5d.4xlarge",
        "vcpuNum": 16
      },
      {
        "_defaultOrder": 16,
        "_isFastLaunch": false,
        "category": "General purpose",
        "gpuNum": 0,
        "hideHardwareSpecs": false,
        "memoryGiB": 128,
        "name": "ml.m5d.8xlarge",
        "vcpuNum": 32
      },
      {
        "_defaultOrder": 17,
        "_isFastLaunch": false,
        "category": "General purpose",
        "gpuNum": 0,
        "hideHardwareSpecs": false,
        "memoryGiB": 192,
        "name": "ml.m5d.12xlarge",
        "vcpuNum": 48
      },
      {
        "_defaultOrder": 18,
        "_isFastLaunch": false,
        "category": "General purpose",
        "gpuNum": 0,
        "hideHardwareSpecs": false,
        "memoryGiB": 256,
        "name": "ml.m5d.16xlarge",
        "vcpuNum": 64
      },
      {
        "_defaultOrder": 19,
        "_isFastLaunch": false,
        "category": "General purpose",
        "gpuNum": 0,
        "hideHardwareSpecs": false,
        "memoryGiB": 384,
        "name": "ml.m5d.24xlarge",
        "vcpuNum": 96
      },
      {
        "_defaultOrder": 20,
        "_isFastLaunch": false,
        "category": "General purpose",
        "gpuNum": 0,
        "hideHardwareSpecs": true,
        "memoryGiB": 0,
        "name": "ml.geospatial.interactive",
        "supportedImageNames": [
          "sagemaker-geospatial-v1-0"
        ],
        "vcpuNum": 0
      },
      {
        "_defaultOrder": 21,
        "_isFastLaunch": true,
        "category": "Compute optimized",
        "gpuNum": 0,
        "hideHardwareSpecs": false,
        "memoryGiB": 4,
        "name": "ml.c5.large",
        "vcpuNum": 2
      },
      {
        "_defaultOrder": 22,
        "_isFastLaunch": false,
        "category": "Compute optimized",
        "gpuNum": 0,
        "hideHardwareSpecs": false,
        "memoryGiB": 8,
        "name": "ml.c5.xlarge",
        "vcpuNum": 4
      },
      {
        "_defaultOrder": 23,
        "_isFastLaunch": false,
        "category": "Compute optimized",
        "gpuNum": 0,
        "hideHardwareSpecs": false,
        "memoryGiB": 16,
        "name": "ml.c5.2xlarge",
        "vcpuNum": 8
      },
      {
        "_defaultOrder": 24,
        "_isFastLaunch": false,
        "category": "Compute optimized",
        "gpuNum": 0,
        "hideHardwareSpecs": false,
        "memoryGiB": 32,
        "name": "ml.c5.4xlarge",
        "vcpuNum": 16
      },
      {
        "_defaultOrder": 25,
        "_isFastLaunch": false,
        "category": "Compute optimized",
        "gpuNum": 0,
        "hideHardwareSpecs": false,
        "memoryGiB": 72,
        "name": "ml.c5.9xlarge",
        "vcpuNum": 36
      },
      {
        "_defaultOrder": 26,
        "_isFastLaunch": false,
        "category": "Compute optimized",
        "gpuNum": 0,
        "hideHardwareSpecs": false,
        "memoryGiB": 96,
        "name": "ml.c5.12xlarge",
        "vcpuNum": 48
      },
      {
        "_defaultOrder": 27,
        "_isFastLaunch": false,
        "category": "Compute optimized",
        "gpuNum": 0,
        "hideHardwareSpecs": false,
        "memoryGiB": 144,
        "name": "ml.c5.18xlarge",
        "vcpuNum": 72
      },
      {
        "_defaultOrder": 28,
        "_isFastLaunch": false,
        "category": "Compute optimized",
        "gpuNum": 0,
        "hideHardwareSpecs": false,
        "memoryGiB": 192,
        "name": "ml.c5.24xlarge",
        "vcpuNum": 96
      },
      {
        "_defaultOrder": 29,
        "_isFastLaunch": true,
        "category": "Accelerated computing",
        "gpuNum": 1,
        "hideHardwareSpecs": false,
        "memoryGiB": 16,
        "name": "ml.g4dn.xlarge",
        "vcpuNum": 4
      },
      {
        "_defaultOrder": 30,
        "_isFastLaunch": false,
        "category": "Accelerated computing",
        "gpuNum": 1,
        "hideHardwareSpecs": false,
        "memoryGiB": 32,
        "name": "ml.g4dn.2xlarge",
        "vcpuNum": 8
      },
      {
        "_defaultOrder": 31,
        "_isFastLaunch": false,
        "category": "Accelerated computing",
        "gpuNum": 1,
        "hideHardwareSpecs": false,
        "memoryGiB": 64,
        "name": "ml.g4dn.4xlarge",
        "vcpuNum": 16
      },
      {
        "_defaultOrder": 32,
        "_isFastLaunch": false,
        "category": "Accelerated computing",
        "gpuNum": 1,
        "hideHardwareSpecs": false,
        "memoryGiB": 128,
        "name": "ml.g4dn.8xlarge",
        "vcpuNum": 32
      },
      {
        "_defaultOrder": 33,
        "_isFastLaunch": false,
        "category": "Accelerated computing",
        "gpuNum": 4,
        "hideHardwareSpecs": false,
        "memoryGiB": 192,
        "name": "ml.g4dn.12xlarge",
        "vcpuNum": 48
      },
      {
        "_defaultOrder": 34,
        "_isFastLaunch": false,
        "category": "Accelerated computing",
        "gpuNum": 1,
        "hideHardwareSpecs": false,
        "memoryGiB": 256,
        "name": "ml.g4dn.16xlarge",
        "vcpuNum": 64
      },
      {
        "_defaultOrder": 35,
        "_isFastLaunch": false,
        "category": "Accelerated computing",
        "gpuNum": 1,
        "hideHardwareSpecs": false,
        "memoryGiB": 61,
        "name": "ml.p3.2xlarge",
        "vcpuNum": 8
      },
      {
        "_defaultOrder": 36,
        "_isFastLaunch": false,
        "category": "Accelerated computing",
        "gpuNum": 4,
        "hideHardwareSpecs": false,
        "memoryGiB": 244,
        "name": "ml.p3.8xlarge",
        "vcpuNum": 32
      },
      {
        "_defaultOrder": 37,
        "_isFastLaunch": false,
        "category": "Accelerated computing",
        "gpuNum": 8,
        "hideHardwareSpecs": false,
        "memoryGiB": 488,
        "name": "ml.p3.16xlarge",
        "vcpuNum": 64
      },
      {
        "_defaultOrder": 38,
        "_isFastLaunch": false,
        "category": "Accelerated computing",
        "gpuNum": 8,
        "hideHardwareSpecs": false,
        "memoryGiB": 768,
        "name": "ml.p3dn.24xlarge",
        "vcpuNum": 96
      },
      {
        "_defaultOrder": 39,
        "_isFastLaunch": false,
        "category": "Memory Optimized",
        "gpuNum": 0,
        "hideHardwareSpecs": false,
        "memoryGiB": 16,
        "name": "ml.r5.large",
        "vcpuNum": 2
      },
      {
        "_defaultOrder": 40,
        "_isFastLaunch": false,
        "category": "Memory Optimized",
        "gpuNum": 0,
        "hideHardwareSpecs": false,
        "memoryGiB": 32,
        "name": "ml.r5.xlarge",
        "vcpuNum": 4
      },
      {
        "_defaultOrder": 41,
        "_isFastLaunch": false,
        "category": "Memory Optimized",
        "gpuNum": 0,
        "hideHardwareSpecs": false,
        "memoryGiB": 64,
        "name": "ml.r5.2xlarge",
        "vcpuNum": 8
      },
      {
        "_defaultOrder": 42,
        "_isFastLaunch": false,
        "category": "Memory Optimized",
        "gpuNum": 0,
        "hideHardwareSpecs": false,
        "memoryGiB": 128,
        "name": "ml.r5.4xlarge",
        "vcpuNum": 16
      },
      {
        "_defaultOrder": 43,
        "_isFastLaunch": false,
        "category": "Memory Optimized",
        "gpuNum": 0,
        "hideHardwareSpecs": false,
        "memoryGiB": 256,
        "name": "ml.r5.8xlarge",
        "vcpuNum": 32
      },
      {
        "_defaultOrder": 44,
        "_isFastLaunch": false,
        "category": "Memory Optimized",
        "gpuNum": 0,
        "hideHardwareSpecs": false,
        "memoryGiB": 384,
        "name": "ml.r5.12xlarge",
        "vcpuNum": 48
      },
      {
        "_defaultOrder": 45,
        "_isFastLaunch": false,
        "category": "Memory Optimized",
        "gpuNum": 0,
        "hideHardwareSpecs": false,
        "memoryGiB": 512,
        "name": "ml.r5.16xlarge",
        "vcpuNum": 64
      },
      {
        "_defaultOrder": 46,
        "_isFastLaunch": false,
        "category": "Memory Optimized",
        "gpuNum": 0,
        "hideHardwareSpecs": false,
        "memoryGiB": 768,
        "name": "ml.r5.24xlarge",
        "vcpuNum": 96
      },
      {
        "_defaultOrder": 47,
        "_isFastLaunch": false,
        "category": "Accelerated computing",
        "gpuNum": 1,
        "hideHardwareSpecs": false,
        "memoryGiB": 16,
        "name": "ml.g5.xlarge",
        "vcpuNum": 4
      },
      {
        "_defaultOrder": 48,
        "_isFastLaunch": false,
        "category": "Accelerated computing",
        "gpuNum": 1,
        "hideHardwareSpecs": false,
        "memoryGiB": 32,
        "name": "ml.g5.2xlarge",
        "vcpuNum": 8
      },
      {
        "_defaultOrder": 49,
        "_isFastLaunch": false,
        "category": "Accelerated computing",
        "gpuNum": 1,
        "hideHardwareSpecs": false,
        "memoryGiB": 64,
        "name": "ml.g5.4xlarge",
        "vcpuNum": 16
      },
      {
        "_defaultOrder": 50,
        "_isFastLaunch": false,
        "category": "Accelerated computing",
        "gpuNum": 1,
        "hideHardwareSpecs": false,
        "memoryGiB": 128,
        "name": "ml.g5.8xlarge",
        "vcpuNum": 32
      },
      {
        "_defaultOrder": 51,
        "_isFastLaunch": false,
        "category": "Accelerated computing",
        "gpuNum": 1,
        "hideHardwareSpecs": false,
        "memoryGiB": 256,
        "name": "ml.g5.16xlarge",
        "vcpuNum": 64
      },
      {
        "_defaultOrder": 52,
        "_isFastLaunch": false,
        "category": "Accelerated computing",
        "gpuNum": 4,
        "hideHardwareSpecs": false,
        "memoryGiB": 192,
        "name": "ml.g5.12xlarge",
        "vcpuNum": 48
      },
      {
        "_defaultOrder": 53,
        "_isFastLaunch": false,
        "category": "Accelerated computing",
        "gpuNum": 4,
        "hideHardwareSpecs": false,
        "memoryGiB": 384,
        "name": "ml.g5.24xlarge",
        "vcpuNum": 96
      },
      {
        "_defaultOrder": 54,
        "_isFastLaunch": false,
        "category": "Accelerated computing",
        "gpuNum": 8,
        "hideHardwareSpecs": false,
        "memoryGiB": 768,
        "name": "ml.g5.48xlarge",
        "vcpuNum": 192
      },
      {
        "_defaultOrder": 55,
        "_isFastLaunch": false,
        "category": "Accelerated computing",
        "gpuNum": 8,
        "hideHardwareSpecs": false,
        "memoryGiB": 1152,
        "name": "ml.p4d.24xlarge",
        "vcpuNum": 96
      },
      {
        "_defaultOrder": 56,
        "_isFastLaunch": false,
        "category": "Accelerated computing",
        "gpuNum": 8,
        "hideHardwareSpecs": false,
        "memoryGiB": 1152,
        "name": "ml.p4de.24xlarge",
        "vcpuNum": 96
      },
      {
        "_defaultOrder": 57,
        "_isFastLaunch": false,
        "category": "Accelerated computing",
        "gpuNum": 0,
        "hideHardwareSpecs": false,
        "memoryGiB": 32,
        "name": "ml.trn1.2xlarge",
        "vcpuNum": 8
      },
      {
        "_defaultOrder": 58,
        "_isFastLaunch": false,
        "category": "Accelerated computing",
        "gpuNum": 0,
        "hideHardwareSpecs": false,
        "memoryGiB": 512,
        "name": "ml.trn1.32xlarge",
        "vcpuNum": 128
      },
      {
        "_defaultOrder": 59,
        "_isFastLaunch": false,
        "category": "Accelerated computing",
        "gpuNum": 0,
        "hideHardwareSpecs": false,
        "memoryGiB": 512,
        "name": "ml.trn1n.32xlarge",
        "vcpuNum": 128
      }
    ],
    "instance_type": "ml.t3.medium",
    "kernelspec": {
      "name": "python",
      "display_name": "Python (Pyodide)",
      "language": "python"
    },
    "language_info": {
      "codemirror_mode": {
        "name": "python",
        "version": 3
      },
      "file_extension": ".py",
      "mimetype": "text/x-python",
      "name": "python",
      "nbconvert_exporter": "python",
      "pygments_lexer": "ipython3",
      "version": "3.8"
    }
  },
  "nbformat_minor": 4,
  "nbformat": 4,
  "cells": [
    {
      "cell_type": "markdown",
      "source": "# Model Training with Amazon SageMaker Autopilot\nYuanyuan Sun, 11/27/2023\n\nUtilize Amazon SageMaker Autopilot for training a BERT-based natural language processing (NLP) model. The model is designed to analyze customer feedback, classifying messages into positive (1), neutral (0), and negative (-1) sentiment.",
      "metadata": {}
    },
    {
      "cell_type": "code",
      "source": "import boto3\nimport sagemaker\nimport pandas as pd\nimport numpy as np\nimport botocore\nimport time\nimport json\n\nconfig = botocore.config.Config(user_agent_extra='')\n\nsm = boto3.client(service_name='sagemaker', config=config)\nsm_runtime = boto3.client('sagemaker-runtime', config=config)\nsess = sagemaker.Session(sagemaker_client=sm, sagemaker_runtime_client=sm_runtime)\n\nbucket = sess.default_bucket()\nrole = sagemaker.get_execution_role()\nregion = sess.boto_region_name",
      "metadata": {
        "tags": []
      },
      "execution_count": 3,
      "outputs": [
        {
          "name": "stderr",
          "output_type": "stream",
          "text": "/opt/conda/lib/python3.7/site-packages/boto3/compat.py:82: PythonDeprecationWarning: Boto3 will no longer support Python 3.7 starting December 13, 2023. To continue receiving service updates, bug fixes, and security updates please upgrade to Python 3.8 or later. More information can be found here: https://aws.amazon.com/blogs/developer/python-support-policy-updates-for-aws-sdks-and-tools/\n\n  warnings.warn(warning, PythonDeprecationWarning)\n"
        }
      ]
    },
    {
      "cell_type": "markdown",
      "source": "# 1. Load Transformed Data Set",
      "metadata": {}
    },
    {
      "cell_type": "code",
      "source": "import matplotlib.pyplot as plt\n%matplotlib inline\n%config InlineBackend.figure_format='retina'",
      "metadata": {
        "tags": []
      },
      "execution_count": 4,
      "outputs": []
    },
    {
      "cell_type": "code",
      "source": "path = './womens_clothing_ecommerce_reviews_balanced.csv'\n\ndf = pd.read_csv(path, delimiter=',')\ndf.head()",
      "metadata": {
        "tags": []
      },
      "execution_count": 6,
      "outputs": [
        {
          "execution_count": 6,
          "output_type": "execute_result",
          "data": {
            "text/html": [
              "<div>\n",
              "<style scoped>\n",
              "    .dataframe tbody tr th:only-of-type {\n",
              "        vertical-align: middle;\n",
              "    }\n",
              "\n",
              "    .dataframe tbody tr th {\n",
              "        vertical-align: top;\n",
              "    }\n",
              "\n",
              "    .dataframe thead th {\n",
              "        text-align: right;\n",
              "    }\n",
              "</style>\n",
              "<table border=\"1\" class=\"dataframe\">\n",
              "  <thead>\n",
              "    <tr style=\"text-align: right;\">\n",
              "      <th></th>\n",
              "      <th>sentiment</th>\n",
              "      <th>review_body</th>\n",
              "      <th>product_category</th>\n",
              "    </tr>\n",
              "  </thead>\n",
              "  <tbody>\n",
              "    <tr>\n",
              "      <th>0</th>\n",
              "      <td>-1</td>\n",
              "      <td>This suit did nothing for me. the top has zero...</td>\n",
              "      <td>Swim</td>\n",
              "    </tr>\n",
              "    <tr>\n",
              "      <th>1</th>\n",
              "      <td>-1</td>\n",
              "      <td>Like other reviewers  i saw this dress on the ...</td>\n",
              "      <td>Dresses</td>\n",
              "    </tr>\n",
              "    <tr>\n",
              "      <th>2</th>\n",
              "      <td>-1</td>\n",
              "      <td>I wish i had read the reviews before purchasin...</td>\n",
              "      <td>Knits</td>\n",
              "    </tr>\n",
              "    <tr>\n",
              "      <th>3</th>\n",
              "      <td>-1</td>\n",
              "      <td>I ordered these pants in my usual size (xl) an...</td>\n",
              "      <td>Legwear</td>\n",
              "    </tr>\n",
              "    <tr>\n",
              "      <th>4</th>\n",
              "      <td>-1</td>\n",
              "      <td>I noticed this top on one of the sales associa...</td>\n",
              "      <td>Knits</td>\n",
              "    </tr>\n",
              "  </tbody>\n",
              "</table>\n",
              "</div>"
            ],
            "text/plain": [
              "   sentiment                                        review_body  \\\n",
              "0         -1  This suit did nothing for me. the top has zero...   \n",
              "1         -1  Like other reviewers  i saw this dress on the ...   \n",
              "2         -1  I wish i had read the reviews before purchasin...   \n",
              "3         -1  I ordered these pants in my usual size (xl) an...   \n",
              "4         -1  I noticed this top on one of the sales associa...   \n",
              "\n",
              "  product_category  \n",
              "0             Swim  \n",
              "1          Dresses  \n",
              "2            Knits  \n",
              "3          Legwear  \n",
              "4            Knits  "
            ]
          },
          "metadata": {}
        }
      ]
    },
    {
      "cell_type": "code",
      "source": "path_autopilot = './womens_clothing_ecommerce_reviews_balanced_for_autopilot.csv'\n\ndf[['sentiment', 'review_body']].to_csv(path_autopilot, sep=',', index=False)",
      "metadata": {
        "tags": []
      },
      "execution_count": 7,
      "outputs": []
    },
    {
      "cell_type": "markdown",
      "source": "# 2. Set up the Autopilot job",
      "metadata": {}
    },
    {
      "cell_type": "code",
      "source": "# Upload data to S3 bucket\nautopilot_train_s3_uri = sess.upload_data(bucket=bucket, key_prefix='autopilot/data', path=path_autopilot)\nautopilot_train_s3_uri",
      "metadata": {
        "tags": []
      },
      "execution_count": 8,
      "outputs": [
        {
          "execution_count": 8,
          "output_type": "execute_result",
          "data": {
            "text/plain": [
              "'s3://sagemaker-us-east-1-594527930436/autopilot/data/womens_clothing_ecommerce_reviews_balanced_for_autopilot.csv'"
            ]
          },
          "metadata": {}
        }
      ]
    },
    {
      "cell_type": "code",
      "source": "# Verify the presence of the dataset in this S3 bucket folder:\n!aws s3 ls $autopilot_train_s3_uri",
      "metadata": {
        "tags": []
      },
      "execution_count": 9,
      "outputs": [
        {
          "name": "stdout",
          "output_type": "stream",
          "text": "2023-11-28 01:49:11    2253749 womens_clothing_ecommerce_reviews_balanced_for_autopilot.csv\n"
        }
      ]
    },
    {
      "cell_type": "code",
      "source": "# Specify the S3 output path for generated assets\n# This path encompasses Autopilot outputs, including Jupyter notebooks (analysis), Python scripts (feature engineering), and trained models.\nmodel_output_s3_uri = 's3://{}/autopilot'.format(bucket)\nprint(model_output_s3_uri)",
      "metadata": {
        "tags": []
      },
      "execution_count": 10,
      "outputs": [
        {
          "name": "stdout",
          "output_type": "stream",
          "text": "s3://sagemaker-us-east-1-594527930436/autopilot\n"
        }
      ]
    },
    {
      "cell_type": "code",
      "source": "# Generate the name for the Autopilot job.\nimport time\n\ntimestamp = int(time.time())\nauto_ml_job_name = 'automl-dm-{}'.format(timestamp)",
      "metadata": {
        "tags": []
      },
      "execution_count": 11,
      "outputs": []
    },
    {
      "cell_type": "code",
      "source": "# Configure the Autopilot job.\nmax_candidates = 3\n\nautoml = sagemaker.automl.automl.AutoML(    \n    target_attribute_name='sentiment', \n    base_job_name=auto_ml_job_name, \n    output_path=model_output_s3_uri, \n    \n    max_candidates=max_candidates,\n    sagemaker_session=sess,\n    role=role,\n    max_runtime_per_training_job_in_seconds=1200,\n    total_job_runtime_in_seconds=7200\n)",
      "metadata": {
        "tags": []
      },
      "execution_count": 12,
      "outputs": []
    },
    {
      "cell_type": "markdown",
      "source": "# 3. Initiate the Autopilot job",
      "metadata": {}
    },
    {
      "cell_type": "code",
      "source": "automl.fit(    \n    autopilot_train_s3_uri,     \n    job_name=auto_ml_job_name, \n    wait=False, \n    logs=False\n)",
      "metadata": {
        "tags": []
      },
      "execution_count": 13,
      "outputs": []
    },
    {
      "cell_type": "markdown",
      "source": "# 4. Monitor the Progress of the Autopilot Job\n\nAfter initiating the Autopilot job, monitor its progress directly from the notebook using the SDK capabilities.",
      "metadata": {}
    },
    {
      "cell_type": "code",
      "source": "job_description_response = automl.describe_auto_ml_job(job_name=auto_ml_job_name)",
      "metadata": {
        "tags": []
      },
      "execution_count": 14,
      "outputs": []
    },
    {
      "cell_type": "code",
      "source": "# Track the job progress\n\nwhile 'AutoMLJobStatus' not in job_description_response.keys() and 'AutoMLJobSecondaryStatus' not in job_description_response.keys():\n    job_description_response = automl.describe_auto_ml_job(job_name=auto_ml_job_name)\n    print('[INFO] Autopilot job has not yet started. Please wait. ')\n    # function `json.dumps` encodes JSON string for printing.\n    print(json.dumps(job_description_response, indent=4, sort_keys=True, default=str))\n    print('[INFO] Waiting for Autopilot job to start...')\n    sleep(15)\n\nprint('[OK] AutoML job started.')",
      "metadata": {
        "tags": []
      },
      "execution_count": 15,
      "outputs": [
        {
          "name": "stdout",
          "output_type": "stream",
          "text": "[OK] AutoML job started.\n"
        }
      ]
    },
    {
      "cell_type": "code",
      "source": "from IPython.core.display import display, HTML\n\ndisplay(HTML('<b>Review <a target=\"blank\" href=\"https://console.aws.amazon.com/sagemaker/home?region={}#/processing-jobs/\">processing jobs</a></b>'.format(region)))\n",
      "metadata": {
        "tags": []
      },
      "execution_count": 16,
      "outputs": [
        {
          "output_type": "display_data",
          "data": {
            "text/html": [
              "<b>Review <a target=\"blank\" href=\"https://console.aws.amazon.com/sagemaker/home?region=us-east-1#/processing-jobs/\">processing jobs</a></b>"
            ],
            "text/plain": [
              "<IPython.core.display.HTML object>"
            ]
          },
          "metadata": {}
        }
      ]
    },
    {
      "cell_type": "markdown",
      "source": "Here we will use the same scheme as above to check the completion of the data analysis step. This step can be identified with the (primary) job status value `InProgress` and secondary job status values `Starting` and then `AnalyzingData`.",
      "metadata": {}
    },
    {
      "cell_type": "code",
      "source": "%%time\n\njob_status = job_description_response['AutoMLJobStatus']\njob_sec_status = job_description_response['AutoMLJobSecondaryStatus']\n\nif job_status not in ('Stopped', 'Failed'):\n    while job_status in ('InProgress') and job_sec_status in ('Starting', 'AnalyzingData'):\n        job_description_response = automl.describe_auto_ml_job(job_name=auto_ml_job_name)\n        job_status = job_description_response['AutoMLJobStatus']\n        job_sec_status = job_description_response['AutoMLJobSecondaryStatus']\n        print(job_status, job_sec_status)\n        time.sleep(15)\n    print('[OK] Data analysis phase completed.\\n')\n    \nprint(json.dumps(job_description_response, indent=4, sort_keys=True, default=str))",
      "metadata": {
        "scrolled": true,
        "tags": []
      },
      "execution_count": 17,
      "outputs": [
        {
          "name": "stdout",
          "output_type": "stream",
          "text": "InProgress AnalyzingData\n\nInProgress AnalyzingData\n\nInProgress AnalyzingData\n\nInProgress AnalyzingData\n\nInProgress AnalyzingData\n\nInProgress AnalyzingData\n\nInProgress AnalyzingData\n\nInProgress AnalyzingData\n\nInProgress AnalyzingData\n\nInProgress AnalyzingData\n\nInProgress AnalyzingData\n\nInProgress AnalyzingData\n\nInProgress AnalyzingData\n\nInProgress AnalyzingData\n\nInProgress AnalyzingData\n\nInProgress AnalyzingData\n\nInProgress AnalyzingData\n\nInProgress AnalyzingData\n\nInProgress AnalyzingData\n\nInProgress AnalyzingData\n\nInProgress AnalyzingData\n\nInProgress AnalyzingData\n\nInProgress AnalyzingData\n\nInProgress AnalyzingData\n\nInProgress AnalyzingData\n\nInProgress AnalyzingData\n\nInProgress AnalyzingData\n\nInProgress AnalyzingData\n\nInProgress AnalyzingData\n\nInProgress AnalyzingData\n\nInProgress AnalyzingData\n\nInProgress AnalyzingData\n\nInProgress AnalyzingData\n\nInProgress AnalyzingData\n\nInProgress AnalyzingData\n\nInProgress AnalyzingData\n\nInProgress AnalyzingData\n\nInProgress AnalyzingData\n\nInProgress AnalyzingData\n\nInProgress FeatureEngineering\n\n[OK] Data analysis phase completed.\n\n\n\n{\n\n    \"AutoMLJobArn\": \"arn:aws:sagemaker:us-east-1:594527930436:automl-job/automl-dm-1701136158\",\n\n    \"AutoMLJobArtifacts\": {\n\n        \"CandidateDefinitionNotebookLocation\": \"s3://sagemaker-us-east-1-594527930436/autopilot/automl-dm-1701136158/sagemaker-automl-candidates/automl-dm-1701136158-pr-1-e556da6192b247d0bddbb2441d7ea053fe96e/notebooks/SageMakerAutopilotCandidateDefinitionNotebook.ipynb\",\n\n        \"DataExplorationNotebookLocation\": \"s3://sagemaker-us-east-1-594527930436/autopilot/automl-dm-1701136158/sagemaker-automl-candidates/automl-dm-1701136158-pr-1-e556da6192b247d0bddbb2441d7ea053fe96e/notebooks/SageMakerAutopilotDataExplorationNotebook.ipynb\"\n\n    },\n\n    \"AutoMLJobConfig\": {\n\n        \"CompletionCriteria\": {\n\n            \"MaxAutoMLJobRuntimeInSeconds\": 7200,\n\n            \"MaxCandidates\": 3,\n\n            \"MaxRuntimePerTrainingJobInSeconds\": 1200\n\n        },\n\n        \"SecurityConfig\": {\n\n            \"EnableInterContainerTrafficEncryption\": false\n\n        }\n\n    },\n\n    \"AutoMLJobName\": \"automl-dm-1701136158\",\n\n    \"AutoMLJobSecondaryStatus\": \"FeatureEngineering\",\n\n    \"AutoMLJobStatus\": \"InProgress\",\n\n    \"CreationTime\": \"2023-11-28 01:49:58.300000+00:00\",\n\n    \"GenerateCandidateDefinitionsOnly\": false,\n\n    \"InputDataConfig\": [\n\n        {\n\n            \"ChannelType\": \"training\",\n\n            \"ContentType\": \"text/csv;header=present\",\n\n            \"DataSource\": {\n\n                \"S3DataSource\": {\n\n                    \"S3DataType\": \"S3Prefix\",\n\n                    \"S3Uri\": \"s3://sagemaker-us-east-1-594527930436/autopilot/data/womens_clothing_ecommerce_reviews_balanced_for_autopilot.csv\"\n\n                }\n\n            },\n\n            \"TargetAttributeName\": \"sentiment\"\n\n        }\n\n    ],\n\n    \"LastModifiedTime\": \"2023-11-28 02:00:03.278000+00:00\",\n\n    \"OutputDataConfig\": {\n\n        \"S3OutputPath\": \"s3://sagemaker-us-east-1-594527930436/autopilot\"\n\n    },\n\n    \"ResolvedAttributes\": {\n\n        \"AutoMLJobObjective\": {\n\n            \"MetricName\": \"Accuracy\"\n\n        },\n\n        \"CompletionCriteria\": {\n\n            \"MaxAutoMLJobRuntimeInSeconds\": 7200,\n\n            \"MaxCandidates\": 3,\n\n            \"MaxRuntimePerTrainingJobInSeconds\": 1200\n\n        },\n\n        \"ProblemType\": \"MulticlassClassification\"\n\n    },\n\n    \"ResponseMetadata\": {\n\n        \"HTTPHeaders\": {\n\n            \"content-length\": \"1809\",\n\n            \"content-type\": \"application/x-amz-json-1.1\",\n\n            \"date\": \"Tue, 28 Nov 2023 02:00:04 GMT\",\n\n            \"x-amzn-requestid\": \"f4dfacbe-a139-48b1-b339-8ed89f20849a\"\n\n        },\n\n        \"HTTPStatusCode\": 200,\n\n        \"RequestId\": \"f4dfacbe-a139-48b1-b339-8ed89f20849a\",\n\n        \"RetryAttempts\": 0\n\n    },\n\n    \"RoleArn\": \"arn:aws:iam::594527930436:role/sagemaker-studio-vpc-firewall-us-east-1-sagemaker-execution-role\"\n\n}\n\nCPU times: user 204 ms, sys: 35.8 ms, total: 240 ms\n\nWall time: 10min 4s\n"
        }
      ]
    },
    {
      "cell_type": "markdown",
      "source": "After completing data analysis, SageMaker AutoPilot produces two notebooks: \n- Data Exploration\n- Candidate Definition\n\nThese notebooks are part of the AutoML job artifacts generated during the run. Before verifying the existence of the notebooks, ensure that the artifacts have been generated.\n",
      "metadata": {}
    },
    {
      "cell_type": "code",
      "source": "# Verify whether the Autopilot job artifacts have been generated.\n# get the information about the running Autopilot job\njob_description_response = automl.describe_auto_ml_job(job_name=auto_ml_job_name) \n\n# keep in the while loop until the Autopilot job artifacts will be generated\nwhile 'AutoMLJobArtifacts' not in job_description_response.keys(): \n    # update the information about the running Autopilot job\n    job_description_response = automl.describe_auto_ml_job(job_name=auto_ml_job_name) \n    \n    print('[INFO] Autopilot job has not yet generated the artifacts. Please wait. ')\n    print(json.dumps(job_description_response, indent=4, sort_keys=True, default=str))\n    print('[INFO] Waiting for AutoMLJobArtifacts...')\n    time.sleep(15)\n\nprint('[OK] AutoMLJobArtifacts generated.')",
      "metadata": {
        "tags": []
      },
      "execution_count": 19,
      "outputs": [
        {
          "name": "stdout",
          "output_type": "stream",
          "text": "[OK] AutoMLJobArtifacts generated.\n"
        }
      ]
    },
    {
      "cell_type": "code",
      "source": "# Verify if the notebooks have been created.\n# get the information about the running Autopilot job\njob_description_response = automl.describe_auto_ml_job(job_name=auto_ml_job_name) \n\n# keep in the while loop until the notebooks will be created\nwhile 'DataExplorationNotebookLocation' not in job_description_response['AutoMLJobArtifacts'].keys(): \n    # update the information about the running Autopilot job\n    job_description_response = automl.describe_auto_ml_job(job_name=auto_ml_job_name) \n    \n    print('[INFO] Autopilot job has not yet generated the notebooks. Please wait. ')\n    print(json.dumps(job_description_response, indent=4, sort_keys=True, default=str))\n    print('[INFO] Waiting for DataExplorationNotebookLocation...')\n    time.sleep(15)\n\nprint('[OK] DataExplorationNotebookLocation found.')",
      "metadata": {
        "tags": []
      },
      "execution_count": 20,
      "outputs": [
        {
          "name": "stdout",
          "output_type": "stream",
          "text": "[OK] DataExplorationNotebookLocation found.\n"
        }
      ]
    },
    {
      "cell_type": "markdown",
      "source": "Examine the generated resources directly in S3. By following the link, we can locate the notebooks in the 'notebooks' folder and download them by selecting the object and choosing 'Actions' -> 'Download'.\n",
      "metadata": {}
    },
    {
      "cell_type": "code",
      "source": "from IPython.core.display import display, HTML\n\ngenerated_resources = job_description_response['AutoMLJobArtifacts']['DataExplorationNotebookLocation']\ndownload_path = generated_resources.rsplit('/notebooks/SageMakerAutopilotDataExplorationNotebook.ipynb')[0]\njob_id = download_path.rsplit('/', 1)[-1]\n\nif not job_id: \n    print('No AutoMLJobArtifacts found.')\nelse: \n    display(HTML('<b>Review <a target=\"blank\" href=\"https://s3.console.aws.amazon.com/s3/buckets/{}/autopilot/{}/sagemaker-automl-candidates/{}/\">generated notebooks</a> in S3 bucket</b>'.format(bucket, auto_ml_job_name, job_id)))",
      "metadata": {
        "tags": []
      },
      "execution_count": 21,
      "outputs": [
        {
          "output_type": "display_data",
          "data": {
            "text/html": [
              "<b>Review <a target=\"blank\" href=\"https://s3.console.aws.amazon.com/s3/buckets/sagemaker-us-east-1-594527930436/autopilot/automl-dm-1701136158/sagemaker-automl-candidates/automl-dm-1701136158-pr-1-e556da6192b247d0bddbb2441d7ea053fe96e/\">generated notebooks</a> in S3 bucket</b>"
            ],
            "text/plain": [
              "<IPython.core.display.HTML object>"
            ]
          },
          "metadata": {}
        }
      ]
    },
    {
      "cell_type": "markdown",
      "source": "<a name='c1w3-5.'></a>\n# 5. Feature engineering",
      "metadata": {}
    },
    {
      "cell_type": "markdown",
      "source": "Verify the completion of the feature engineering step.",
      "metadata": {}
    },
    {
      "cell_type": "code",
      "source": "%%time\n\njob_description_response = automl.describe_auto_ml_job(job_name=auto_ml_job_name)\njob_status = job_description_response['AutoMLJobStatus']\njob_sec_status = job_description_response['AutoMLJobSecondaryStatus']\nprint(job_status)\nprint(job_sec_status)\nif job_status not in ('Stopped', 'Failed'):\n    \n    while job_status in ('InProgress') and job_sec_status in ('FeatureEngineering'):\n    \n        job_description_response = automl.describe_auto_ml_job(job_name=auto_ml_job_name)\n        job_status = job_description_response['AutoMLJobStatus']\n        job_sec_status = job_description_response['AutoMLJobSecondaryStatus']\n        print(job_status, job_sec_status)\n        time.sleep(5)\n    print('[OK] Feature engineering phase completed.\\n')\n    \nprint(json.dumps(job_description_response, indent=4, sort_keys=True, default=str))",
      "metadata": {
        "scrolled": true,
        "tags": []
      },
      "execution_count": 22,
      "outputs": [
        {
          "name": "stdout",
          "output_type": "stream",
          "text": "InProgress\n\nFeatureEngineering\n\n[OK] Feature engineering phase completed.\n\n\n\n{\n\n    \"AutoMLJobArn\": \"arn:aws:sagemaker:us-east-1:594527930436:automl-job/automl-dm-1701136158\",\n\n    \"AutoMLJobArtifacts\": {\n\n        \"CandidateDefinitionNotebookLocation\": \"s3://sagemaker-us-east-1-594527930436/autopilot/automl-dm-1701136158/sagemaker-automl-candidates/automl-dm-1701136158-pr-1-e556da6192b247d0bddbb2441d7ea053fe96e/notebooks/SageMakerAutopilotCandidateDefinitionNotebook.ipynb\",\n\n        \"DataExplorationNotebookLocation\": \"s3://sagemaker-us-east-1-594527930436/autopilot/automl-dm-1701136158/sagemaker-automl-candidates/automl-dm-1701136158-pr-1-e556da6192b247d0bddbb2441d7ea053fe96e/notebooks/SageMakerAutopilotDataExplorationNotebook.ipynb\"\n\n    },\n\n    \"AutoMLJobConfig\": {\n\n        \"CompletionCriteria\": {\n\n            \"MaxAutoMLJobRuntimeInSeconds\": 7200,\n\n            \"MaxCandidates\": 3,\n\n            \"MaxRuntimePerTrainingJobInSeconds\": 1200\n\n        },\n\n        \"SecurityConfig\": {\n\n            \"EnableInterContainerTrafficEncryption\": false\n\n        }\n\n    },\n\n    \"AutoMLJobName\": \"automl-dm-1701136158\",\n\n    \"AutoMLJobSecondaryStatus\": \"FeatureEngineering\",\n\n    \"AutoMLJobStatus\": \"InProgress\",\n\n    \"CreationTime\": \"2023-11-28 01:49:58.300000+00:00\",\n\n    \"GenerateCandidateDefinitionsOnly\": false,\n\n    \"InputDataConfig\": [\n\n        {\n\n            \"ChannelType\": \"training\",\n\n            \"ContentType\": \"text/csv;header=present\",\n\n            \"DataSource\": {\n\n                \"S3DataSource\": {\n\n                    \"S3DataType\": \"S3Prefix\",\n\n                    \"S3Uri\": \"s3://sagemaker-us-east-1-594527930436/autopilot/data/womens_clothing_ecommerce_reviews_balanced_for_autopilot.csv\"\n\n                }\n\n            },\n\n            \"TargetAttributeName\": \"sentiment\"\n\n        }\n\n    ],\n\n    \"LastModifiedTime\": \"2023-11-28 02:02:25.478000+00:00\",\n\n    \"OutputDataConfig\": {\n\n        \"S3OutputPath\": \"s3://sagemaker-us-east-1-594527930436/autopilot\"\n\n    },\n\n    \"ResolvedAttributes\": {\n\n        \"AutoMLJobObjective\": {\n\n            \"MetricName\": \"Accuracy\"\n\n        },\n\n        \"CompletionCriteria\": {\n\n            \"MaxAutoMLJobRuntimeInSeconds\": 7200,\n\n            \"MaxCandidates\": 3,\n\n            \"MaxRuntimePerTrainingJobInSeconds\": 1200\n\n        },\n\n        \"ProblemType\": \"MulticlassClassification\"\n\n    },\n\n    \"ResponseMetadata\": {\n\n        \"HTTPHeaders\": {\n\n            \"content-length\": \"1809\",\n\n            \"content-type\": \"application/x-amz-json-1.1\",\n\n            \"date\": \"Tue, 28 Nov 2023 02:02:37 GMT\",\n\n            \"x-amzn-requestid\": \"20d0b3d6-f0ce-44dc-b952-f7ffc39bdd96\"\n\n        },\n\n        \"HTTPStatusCode\": 200,\n\n        \"RequestId\": \"20d0b3d6-f0ce-44dc-b952-f7ffc39bdd96\",\n\n        \"RetryAttempts\": 0\n\n    },\n\n    \"RoleArn\": \"arn:aws:iam::594527930436:role/sagemaker-studio-vpc-firewall-us-east-1-sagemaker-execution-role\"\n\n}\n\nCPU times: user 3.24 ms, sys: 3.51 ms, total: 6.75 ms\n\nWall time: 95.5 ms\n"
        }
      ]
    },
    {
      "cell_type": "markdown",
      "source": "# 6. Training and Tuning the Model\nUpon launching the Autopilot job, we specified the generation and comparison of three model candidates. \nAs a result, we should observe three (3) SageMaker training jobs listed below.\n",
      "metadata": {}
    },
    {
      "cell_type": "code",
      "source": "from IPython.core.display import display, HTML\n\ndisplay(HTML('<b>Review <a target=\"blank\" href=\"https://console.aws.amazon.com/sagemaker/home?region={}#/hyper-tuning-jobs/\">hyper-parameter tuning jobs</a></b>'.format(region)))\n",
      "metadata": {
        "tags": []
      },
      "execution_count": 33,
      "outputs": [
        {
          "output_type": "display_data",
          "data": {
            "text/html": [
              "<b>Review <a target=\"blank\" href=\"https://console.aws.amazon.com/sagemaker/home?region=us-east-1#/hyper-tuning-jobs/\">hyper-parameter tuning jobs</a></b>"
            ],
            "text/plain": [
              "<IPython.core.display.HTML object>"
            ]
          },
          "metadata": {}
        }
      ]
    },
    {
      "cell_type": "markdown",
      "source": "Verify the completion of the model tuning step.",
      "metadata": {}
    },
    {
      "cell_type": "code",
      "source": "%%time\n\njob_description_response = automl.describe_auto_ml_job(job_name=auto_ml_job_name)\njob_status = job_description_response['AutoMLJobStatus']\njob_sec_status = job_description_response['AutoMLJobSecondaryStatus']\nprint(job_status)\nprint(job_sec_status)\nif job_status not in ('Stopped', 'Failed'):\n    \n    while job_status in ('InProgress') and job_sec_status in ('ModelTuning'): \n        job_description_response = automl.describe_auto_ml_job(job_name=auto_ml_job_name)\n        job_status = job_description_response['AutoMLJobStatus']\n        job_sec_status = job_description_response['AutoMLJobSecondaryStatus']\n        print(job_status, job_sec_status)\n        time.sleep(5)\n    print('[OK] Model tuning phase completed.\\n')\n    \nprint(json.dumps(job_description_response, indent=4, sort_keys=True, default=str))",
      "metadata": {
        "scrolled": true,
        "tags": []
      },
      "execution_count": 24,
      "outputs": [
        {
          "name": "stdout",
          "output_type": "stream",
          "text": "InProgress\n\nFeatureEngineering\n\n[OK] Model tuning phase completed.\n\n\n\n{\n\n    \"AutoMLJobArn\": \"arn:aws:sagemaker:us-east-1:594527930436:automl-job/automl-dm-1701136158\",\n\n    \"AutoMLJobArtifacts\": {\n\n        \"CandidateDefinitionNotebookLocation\": \"s3://sagemaker-us-east-1-594527930436/autopilot/automl-dm-1701136158/sagemaker-automl-candidates/automl-dm-1701136158-pr-1-e556da6192b247d0bddbb2441d7ea053fe96e/notebooks/SageMakerAutopilotCandidateDefinitionNotebook.ipynb\",\n\n        \"DataExplorationNotebookLocation\": \"s3://sagemaker-us-east-1-594527930436/autopilot/automl-dm-1701136158/sagemaker-automl-candidates/automl-dm-1701136158-pr-1-e556da6192b247d0bddbb2441d7ea053fe96e/notebooks/SageMakerAutopilotDataExplorationNotebook.ipynb\"\n\n    },\n\n    \"AutoMLJobConfig\": {\n\n        \"CompletionCriteria\": {\n\n            \"MaxAutoMLJobRuntimeInSeconds\": 7200,\n\n            \"MaxCandidates\": 3,\n\n            \"MaxRuntimePerTrainingJobInSeconds\": 1200\n\n        },\n\n        \"SecurityConfig\": {\n\n            \"EnableInterContainerTrafficEncryption\": false\n\n        }\n\n    },\n\n    \"AutoMLJobName\": \"automl-dm-1701136158\",\n\n    \"AutoMLJobSecondaryStatus\": \"FeatureEngineering\",\n\n    \"AutoMLJobStatus\": \"InProgress\",\n\n    \"CreationTime\": \"2023-11-28 01:49:58.300000+00:00\",\n\n    \"GenerateCandidateDefinitionsOnly\": false,\n\n    \"InputDataConfig\": [\n\n        {\n\n            \"ChannelType\": \"training\",\n\n            \"ContentType\": \"text/csv;header=present\",\n\n            \"DataSource\": {\n\n                \"S3DataSource\": {\n\n                    \"S3DataType\": \"S3Prefix\",\n\n                    \"S3Uri\": \"s3://sagemaker-us-east-1-594527930436/autopilot/data/womens_clothing_ecommerce_reviews_balanced_for_autopilot.csv\"\n\n                }\n\n            },\n\n            \"TargetAttributeName\": \"sentiment\"\n\n        }\n\n    ],\n\n    \"LastModifiedTime\": \"2023-11-28 02:03:00.422000+00:00\",\n\n    \"OutputDataConfig\": {\n\n        \"S3OutputPath\": \"s3://sagemaker-us-east-1-594527930436/autopilot\"\n\n    },\n\n    \"ResolvedAttributes\": {\n\n        \"AutoMLJobObjective\": {\n\n            \"MetricName\": \"Accuracy\"\n\n        },\n\n        \"CompletionCriteria\": {\n\n            \"MaxAutoMLJobRuntimeInSeconds\": 7200,\n\n            \"MaxCandidates\": 3,\n\n            \"MaxRuntimePerTrainingJobInSeconds\": 1200\n\n        },\n\n        \"ProblemType\": \"MulticlassClassification\"\n\n    },\n\n    \"ResponseMetadata\": {\n\n        \"HTTPHeaders\": {\n\n            \"content-length\": \"1809\",\n\n            \"content-type\": \"application/x-amz-json-1.1\",\n\n            \"date\": \"Tue, 28 Nov 2023 02:03:04 GMT\",\n\n            \"x-amzn-requestid\": \"ea57835e-09ca-43c1-a829-7752477642ca\"\n\n        },\n\n        \"HTTPStatusCode\": 200,\n\n        \"RequestId\": \"ea57835e-09ca-43c1-a829-7752477642ca\",\n\n        \"RetryAttempts\": 0\n\n    },\n\n    \"RoleArn\": \"arn:aws:iam::594527930436:role/sagemaker-studio-vpc-firewall-us-east-1-sagemaker-execution-role\"\n\n}\n\nCPU times: user 7.6 ms, sys: 64 µs, total: 7.67 ms\n\nWall time: 99.6 ms\n"
        }
      ]
    },
    {
      "cell_type": "markdown",
      "source": "Finally, we can check the completion of the Autopilot job looking for the `Completed` job status.",
      "metadata": {}
    },
    {
      "cell_type": "code",
      "source": "%%time\n\nfrom pprint import pprint\n\njob_description_response = automl.describe_auto_ml_job(job_name=auto_ml_job_name)\npprint(job_description_response)\njob_status = job_description_response['AutoMLJobStatus']\njob_sec_status = job_description_response['AutoMLJobSecondaryStatus']\nprint('Job status:  {}'.format(job_status))\nprint('Secondary job status:  {}'.format(job_sec_status))\nif job_status not in ('Stopped', 'Failed'):\n    while job_status not in ('Completed'):\n        job_description_response = automl.describe_auto_ml_job(job_name=auto_ml_job_name)\n        job_status = job_description_response['AutoMLJobStatus']\n        job_sec_status = job_description_response['AutoMLJobSecondaryStatus']\n        print('Job status:  {}'.format(job_status))\n        print('Secondary job status:  {}'.format(job_sec_status))        \n        time.sleep(10)\n    print('[OK] Autopilot job completed.\\n')\nelse:\n    print('Job status: {}'.format(job_status))\n    print('Secondary job status: {}'.format(job_status))",
      "metadata": {
        "tags": []
      },
      "execution_count": 25,
      "outputs": [
        {
          "name": "stdout",
          "output_type": "stream",
          "text": "{'AutoMLJobArn': 'arn:aws:sagemaker:us-east-1:594527930436:automl-job/automl-dm-1701136158',\n\n 'AutoMLJobArtifacts': {'CandidateDefinitionNotebookLocation': 's3://sagemaker-us-east-1-594527930436/autopilot/automl-dm-1701136158/sagemaker-automl-candidates/automl-dm-1701136158-pr-1-e556da6192b247d0bddbb2441d7ea053fe96e/notebooks/SageMakerAutopilotCandidateDefinitionNotebook.ipynb',\n\n                        'DataExplorationNotebookLocation': 's3://sagemaker-us-east-1-594527930436/autopilot/automl-dm-1701136158/sagemaker-automl-candidates/automl-dm-1701136158-pr-1-e556da6192b247d0bddbb2441d7ea053fe96e/notebooks/SageMakerAutopilotDataExplorationNotebook.ipynb'},\n\n 'AutoMLJobConfig': {'CompletionCriteria': {'MaxAutoMLJobRuntimeInSeconds': 7200,\n\n                                            'MaxCandidates': 3,\n\n                                            'MaxRuntimePerTrainingJobInSeconds': 1200},\n\n                     'SecurityConfig': {'EnableInterContainerTrafficEncryption': False}},\n\n 'AutoMLJobName': 'automl-dm-1701136158',\n\n 'AutoMLJobSecondaryStatus': 'FeatureEngineering',\n\n 'AutoMLJobStatus': 'InProgress',\n\n 'CreationTime': datetime.datetime(2023, 11, 28, 1, 49, 58, 300000, tzinfo=tzlocal()),\n\n 'GenerateCandidateDefinitionsOnly': False,\n\n 'InputDataConfig': [{'ChannelType': 'training',\n\n                      'ContentType': 'text/csv;header=present',\n\n                      'DataSource': {'S3DataSource': {'S3DataType': 'S3Prefix',\n\n                                                      'S3Uri': 's3://sagemaker-us-east-1-594527930436/autopilot/data/womens_clothing_ecommerce_reviews_balanced_for_autopilot.csv'}},\n\n                      'TargetAttributeName': 'sentiment'}],\n\n 'LastModifiedTime': datetime.datetime(2023, 11, 28, 2, 3, 6, 199000, tzinfo=tzlocal()),\n\n 'OutputDataConfig': {'S3OutputPath': 's3://sagemaker-us-east-1-594527930436/autopilot'},\n\n 'ResolvedAttributes': {'AutoMLJobObjective': {'MetricName': 'Accuracy'},\n\n                        'CompletionCriteria': {'MaxAutoMLJobRuntimeInSeconds': 7200,\n\n                                               'MaxCandidates': 3,\n\n                                               'MaxRuntimePerTrainingJobInSeconds': 1200},\n\n                        'ProblemType': 'MulticlassClassification'},\n\n 'ResponseMetadata': {'HTTPHeaders': {'content-length': '1809',\n\n                                      'content-type': 'application/x-amz-json-1.1',\n\n                                      'date': 'Tue, 28 Nov 2023 02:03:22 GMT',\n\n                                      'x-amzn-requestid': 'd8854548-e06e-4b35-ae4d-3ace9d6e953d'},\n\n                      'HTTPStatusCode': 200,\n\n                      'RequestId': 'd8854548-e06e-4b35-ae4d-3ace9d6e953d',\n\n                      'RetryAttempts': 0},\n\n 'RoleArn': 'arn:aws:iam::594527930436:role/sagemaker-studio-vpc-firewall-us-east-1-sagemaker-execution-role'}\n\nJob status:  InProgress\n\nSecondary job status:  FeatureEngineering\n\nJob status:  InProgress\n\nSecondary job status:  FeatureEngineering\n\nJob status:  InProgress\n\nSecondary job status:  FeatureEngineering\n\nJob status:  InProgress\n\nSecondary job status:  FeatureEngineering\n\nJob status:  InProgress\n\nSecondary job status:  FeatureEngineering\n\nJob status:  InProgress\n\nSecondary job status:  FeatureEngineering\n\nJob status:  InProgress\n\nSecondary job status:  FeatureEngineering\n\nJob status:  InProgress\n\nSecondary job status:  FeatureEngineering\n\nJob status:  InProgress\n\nSecondary job status:  FeatureEngineering\n\nJob status:  InProgress\n\nSecondary job status:  FeatureEngineering\n\nJob status:  InProgress\n\nSecondary job status:  FeatureEngineering\n\nJob status:  InProgress\n\nSecondary job status:  FeatureEngineering\n\nJob status:  InProgress\n\nSecondary job status:  FeatureEngineering\n\nJob status:  InProgress\n\nSecondary job status:  FeatureEngineering\n\nJob status:  InProgress\n\nSecondary job status:  FeatureEngineering\n\nJob status:  InProgress\n\nSecondary job status:  FeatureEngineering\n\nJob status:  InProgress\n\nSecondary job status:  FeatureEngineering\n\nJob status:  InProgress\n\nSecondary job status:  FeatureEngineering\n\nJob status:  InProgress\n\nSecondary job status:  FeatureEngineering\n\nJob status:  InProgress\n\nSecondary job status:  FeatureEngineering\n\nJob status:  InProgress\n\nSecondary job status:  FeatureEngineering\n\nJob status:  InProgress\n\nSecondary job status:  FeatureEngineering\n\nJob status:  InProgress\n\nSecondary job status:  FeatureEngineering\n\nJob status:  InProgress\n\nSecondary job status:  FeatureEngineering\n\nJob status:  InProgress\n\nSecondary job status:  FeatureEngineering\n\nJob status:  InProgress\n\nSecondary job status:  FeatureEngineering\n\nJob status:  InProgress\n\nSecondary job status:  FeatureEngineering\n\nJob status:  InProgress\n\nSecondary job status:  FeatureEngineering\n\nJob status:  InProgress\n\nSecondary job status:  FeatureEngineering\n\nJob status:  InProgress\n\nSecondary job status:  FeatureEngineering\n\nJob status:  InProgress\n\nSecondary job status:  FeatureEngineering\n\nJob status:  InProgress\n\nSecondary job status:  FeatureEngineering\n\nJob status:  InProgress\n\nSecondary job status:  FeatureEngineering\n\nJob status:  InProgress\n\nSecondary job status:  FeatureEngineering\n\nJob status:  InProgress\n\nSecondary job status:  FeatureEngineering\n\nJob status:  InProgress\n\nSecondary job status:  FeatureEngineering\n\nJob status:  InProgress\n\nSecondary job status:  FeatureEngineering\n\nJob status:  InProgress\n\nSecondary job status:  FeatureEngineering\n\nJob status:  InProgress\n\nSecondary job status:  FeatureEngineering\n\nJob status:  InProgress\n\nSecondary job status:  FeatureEngineering\n\nJob status:  InProgress\n\nSecondary job status:  FeatureEngineering\n\nJob status:  InProgress\n\nSecondary job status:  ModelTuning\n\nJob status:  InProgress\n\nSecondary job status:  ModelTuning\n\nJob status:  InProgress\n\nSecondary job status:  ModelTuning\n\nJob status:  InProgress\n\nSecondary job status:  ModelTuning\n\nJob status:  InProgress\n\nSecondary job status:  ModelTuning\n\nJob status:  InProgress\n\nSecondary job status:  ModelTuning\n\nJob status:  InProgress\n\nSecondary job status:  ModelTuning\n\nJob status:  InProgress\n\nSecondary job status:  ModelTuning\n\nJob status:  InProgress\n\nSecondary job status:  ModelTuning\n\nJob status:  InProgress\n\nSecondary job status:  ModelTuning\n\nJob status:  InProgress\n\nSecondary job status:  ModelTuning\n\nJob status:  InProgress\n\nSecondary job status:  ModelTuning\n\nJob status:  InProgress\n\nSecondary job status:  ModelTuning\n\nJob status:  InProgress\n\nSecondary job status:  ModelTuning\n\nJob status:  InProgress\n\nSecondary job status:  ModelTuning\n\nJob status:  InProgress\n\nSecondary job status:  ModelTuning\n\nJob status:  InProgress\n\nSecondary job status:  ModelTuning\n\nJob status:  InProgress\n\nSecondary job status:  ModelTuning\n\nJob status:  InProgress\n\nSecondary job status:  ModelTuning\n\nJob status:  InProgress\n\nSecondary job status:  ModelTuning\n\nJob status:  InProgress\n\nSecondary job status:  ModelTuning\n\nJob status:  InProgress\n\nSecondary job status:  ModelTuning\n\nJob status:  InProgress\n\nSecondary job status:  ModelTuning\n\nJob status:  InProgress\n\nSecondary job status:  ModelTuning\n\nJob status:  InProgress\n\nSecondary job status:  ModelTuning\n\nJob status:  InProgress\n\nSecondary job status:  ModelTuning\n\nJob status:  InProgress\n\nSecondary job status:  ModelTuning\n\nJob status:  InProgress\n\nSecondary job status:  ModelTuning\n\nJob status:  InProgress\n\nSecondary job status:  ModelTuning\n\nJob status:  InProgress\n\nSecondary job status:  ModelTuning\n\nJob status:  InProgress\n\nSecondary job status:  ModelTuning\n\nJob status:  InProgress\n\nSecondary job status:  ModelTuning\n\nJob status:  InProgress\n\nSecondary job status:  ModelTuning\n\nJob status:  InProgress\n\nSecondary job status:  ModelTuning\n\nJob status:  InProgress\n\nSecondary job status:  ModelTuning\n\nJob status:  InProgress\n\nSecondary job status:  ModelTuning\n\nJob status:  InProgress\n\nSecondary job status:  ModelTuning\n\nJob status:  InProgress\n\nSecondary job status:  ModelTuning\n\nJob status:  InProgress\n\nSecondary job status:  ModelTuning\n\nJob status:  InProgress\n\nSecondary job status:  ModelTuning\n\nJob status:  InProgress\n\nSecondary job status:  ModelTuning\n\nJob status:  InProgress\n\nSecondary job status:  ModelTuning\n\nJob status:  InProgress\n\nSecondary job status:  ModelTuning\n\nJob status:  InProgress\n\nSecondary job status:  ModelTuning\n\nJob status:  InProgress\n\nSecondary job status:  ModelTuning\n\nJob status:  InProgress\n\nSecondary job status:  ModelTuning\n\nJob status:  InProgress\n\nSecondary job status:  ModelTuning\n\nJob status:  InProgress\n\nSecondary job status:  ModelTuning\n\nJob status:  InProgress\n\nSecondary job status:  ModelTuning\n\nJob status:  InProgress\n\nSecondary job status:  ModelTuning\n\nJob status:  InProgress\n\nSecondary job status:  ModelTuning\n\nJob status:  InProgress\n\nSecondary job status:  ModelTuning\n\nJob status:  InProgress\n\nSecondary job status:  ModelTuning\n\nJob status:  InProgress\n\nSecondary job status:  ModelTuning\n\nJob status:  InProgress\n\nSecondary job status:  ModelTuning\n\nJob status:  InProgress\n\nSecondary job status:  ModelTuning\n\nJob status:  InProgress\n\nSecondary job status:  ModelTuning\n\nJob status:  InProgress\n\nSecondary job status:  ModelTuning\n\nJob status:  InProgress\n\nSecondary job status:  ModelTuning\n\nJob status:  InProgress\n\nSecondary job status:  ModelTuning\n\nJob status:  InProgress\n\nSecondary job status:  ModelTuning\n\nJob status:  InProgress\n\nSecondary job status:  ModelTuning\n\nJob status:  InProgress\n\nSecondary job status:  ModelTuning\n\nJob status:  InProgress\n\nSecondary job status:  ModelTuning\n\nJob status:  InProgress\n\nSecondary job status:  ModelTuning\n\nJob status:  InProgress\n\nSecondary job status:  ModelTuning\n\nJob status:  InProgress\n\nSecondary job status:  ModelTuning\n\nJob status:  InProgress\n\nSecondary job status:  ModelTuning\n\nJob status:  InProgress\n\nSecondary job status:  ModelTuning\n\nJob status:  InProgress\n\nSecondary job status:  ModelTuning\n\nJob status:  InProgress\n\nSecondary job status:  ModelTuning\n\nJob status:  InProgress\n\nSecondary job status:  ModelTuning\n\nJob status:  InProgress\n\nSecondary job status:  ModelTuning\n\nJob status:  InProgress\n\nSecondary job status:  ModelTuning\n\nJob status:  InProgress\n\nSecondary job status:  MergingAutoMLTaskReports\n\nJob status:  InProgress\n\nSecondary job status:  MergingAutoMLTaskReports\n\nJob status:  InProgress\n\nSecondary job status:  MergingAutoMLTaskReports\n\nJob status:  InProgress\n\nSecondary job status:  MergingAutoMLTaskReports\n\nJob status:  InProgress\n\nSecondary job status:  MergingAutoMLTaskReports\n\nJob status:  InProgress\n\nSecondary job status:  MergingAutoMLTaskReports\n\nJob status:  InProgress\n\nSecondary job status:  MergingAutoMLTaskReports\n\nJob status:  InProgress\n\nSecondary job status:  MergingAutoMLTaskReports\n\nJob status:  InProgress\n\nSecondary job status:  MergingAutoMLTaskReports\n\nJob status:  InProgress\n\nSecondary job status:  MergingAutoMLTaskReports\n\nJob status:  InProgress\n\nSecondary job status:  MergingAutoMLTaskReports\n\nJob status:  InProgress\n\nSecondary job status:  MergingAutoMLTaskReports\n\nJob status:  InProgress\n\nSecondary job status:  MergingAutoMLTaskReports\n\nJob status:  InProgress\n\nSecondary job status:  MergingAutoMLTaskReports\n\nJob status:  InProgress\n\nSecondary job status:  MergingAutoMLTaskReports\n\nJob status:  InProgress\n\nSecondary job status:  MergingAutoMLTaskReports\n\nJob status:  InProgress\n\nSecondary job status:  MergingAutoMLTaskReports\n\nJob status:  InProgress\n\nSecondary job status:  MergingAutoMLTaskReports\n\nJob status:  InProgress\n\nSecondary job status:  MergingAutoMLTaskReports\n\nJob status:  InProgress\n\nSecondary job status:  MergingAutoMLTaskReports\n\nJob status:  InProgress\n\nSecondary job status:  MergingAutoMLTaskReports\n\nJob status:  InProgress\n\nSecondary job status:  MergingAutoMLTaskReports\n\nJob status:  InProgress\n\nSecondary job status:  MergingAutoMLTaskReports\n\nJob status:  InProgress\n\nSecondary job status:  MergingAutoMLTaskReports\n\nJob status:  InProgress\n\nSecondary job status:  MergingAutoMLTaskReports\n\nJob status:  InProgress\n\nSecondary job status:  MergingAutoMLTaskReports\n\nJob status:  InProgress\n\nSecondary job status:  MergingAutoMLTaskReports\n\nJob status:  InProgress\n\nSecondary job status:  MergingAutoMLTaskReports\n\nJob status:  InProgress\n\nSecondary job status:  MergingAutoMLTaskReports\n\nJob status:  InProgress\n\nSecondary job status:  MergingAutoMLTaskReports\n\nJob status:  InProgress\n\nSecondary job status:  MergingAutoMLTaskReports\n\nJob status:  InProgress\n\nSecondary job status:  MergingAutoMLTaskReports\n\nJob status:  InProgress\n\nSecondary job status:  MergingAutoMLTaskReports\n\nJob status:  InProgress\n\nSecondary job status:  MergingAutoMLTaskReports\n\nJob status:  InProgress\n\nSecondary job status:  MergingAutoMLTaskReports\n\nJob status:  InProgress\n\nSecondary job status:  MergingAutoMLTaskReports\n\nJob status:  InProgress\n\nSecondary job status:  MergingAutoMLTaskReports\n\nJob status:  InProgress\n\nSecondary job status:  MergingAutoMLTaskReports\n\nJob status:  InProgress\n\nSecondary job status:  MergingAutoMLTaskReports\n\nJob status:  InProgress\n\nSecondary job status:  MergingAutoMLTaskReports\n\nJob status:  InProgress\n\nSecondary job status:  MergingAutoMLTaskReports\n\nJob status:  InProgress\n\nSecondary job status:  MergingAutoMLTaskReports\n\nJob status:  InProgress\n\nSecondary job status:  MergingAutoMLTaskReports\n\nJob status:  InProgress\n\nSecondary job status:  MergingAutoMLTaskReports\n\nJob status:  InProgress\n\nSecondary job status:  MergingAutoMLTaskReports\n\nJob status:  InProgress\n\nSecondary job status:  MergingAutoMLTaskReports\n\nJob status:  InProgress\n\nSecondary job status:  MergingAutoMLTaskReports\n\nJob status:  InProgress\n\nSecondary job status:  MergingAutoMLTaskReports\n\nJob status:  InProgress\n\nSecondary job status:  MergingAutoMLTaskReports\n\nJob status:  InProgress\n\nSecondary job status:  MergingAutoMLTaskReports\n\nJob status:  InProgress\n\nSecondary job status:  MergingAutoMLTaskReports\n\nJob status:  Completed\n\nSecondary job status:  Completed\n\n[OK] Autopilot job completed.\n\n\n\nCPU times: user 893 ms, sys: 102 ms, total: 996 ms\n\nWall time: 27min 59s\n"
        }
      ]
    },
    {
      "cell_type": "markdown",
      "source": "Before moving to the next section make sure the status above indicates `Autopilot job completed`.",
      "metadata": {}
    },
    {
      "cell_type": "markdown",
      "source": "## 6.1. Compare model candidates\n\nAfter completing model tuning, we can review all the candidates (pipeline evaluations with various hyperparameter combinations) explored by AutoML and organize them based on their final performance metric.",
      "metadata": {}
    },
    {
      "cell_type": "code",
      "source": "# Enumerate Autopilot-generated candidates, arranged in descending order based on accuracy.\ncandidates = automl.list_candidates(\n    \n    job_name=auto_ml_job_name, \n    sort_by='FinalObjectiveMetricValue' \n    \n)",
      "metadata": {
        "tags": []
      },
      "execution_count": 26,
      "outputs": []
    },
    {
      "cell_type": "code",
      "source": "# put the candidate existence check into the loop\nwhile candidates == []:\n    candidates = automl.list_candidates(job_name=auto_ml_job_name)\n    print('[INFO] Autopilot job is generating the candidates. Please wait.')\n    time.sleep(10)\n\nprint('[OK] Candidates generated.') \n\nprint(candidates[0].keys())",
      "metadata": {
        "tags": []
      },
      "execution_count": null,
      "outputs": [
        {
          "name": "stdout",
          "output_type": "stream",
          "text": "dict_keys(['CandidateName', 'FinalAutoMLJobObjectiveMetric', 'ObjectiveStatus', 'CandidateSteps', 'CandidateStatus', 'InferenceContainers', 'CreationTime', 'EndTime', 'LastModifiedTime', 'CandidateProperties'])\n"
        }
      ]
    },
    {
      "cell_type": "markdown",
      "source": "The `CandidateName` holds the candidate name, and the `FinalAutoMLJobObjectiveMetric` element contains metric information, enabling the identification of the best candidate later. Let's verify that they have been generated.",
      "metadata": {}
    },
    {
      "cell_type": "code",
      "source": "while 'CandidateName' not in candidates[0]:\n    candidates = automl.list_candidates(job_name=auto_ml_job_name)\n    print('[INFO] Autopilot job is generating CandidateName. Please wait. ')\n    sleep(10)\n\nprint('[OK] CandidateName generated.')",
      "metadata": {
        "tags": []
      },
      "execution_count": 29,
      "outputs": [
        {
          "name": "stdout",
          "output_type": "stream",
          "text": "[OK] CandidateName generated.\n"
        }
      ]
    },
    {
      "cell_type": "code",
      "source": "while 'FinalAutoMLJobObjectiveMetric' not in candidates[0]:\n    candidates = automl.list_candidates(job_name=auto_ml_job_name)\n    print('[INFO] Autopilot job is generating FinalAutoMLJobObjectiveMetric. Please wait. ')\n    sleep(10)\n\nprint('[OK] FinalAutoMLJobObjectiveMetric generated.')",
      "metadata": {
        "tags": []
      },
      "execution_count": 30,
      "outputs": [
        {
          "name": "stdout",
          "output_type": "stream",
          "text": "[OK] FinalAutoMLJobObjectiveMetric generated.\n"
        }
      ]
    },
    {
      "cell_type": "code",
      "source": "print(json.dumps(candidates, indent=4, sort_keys=True, default=str))",
      "metadata": {
        "scrolled": true,
        "tags": []
      },
      "execution_count": 31,
      "outputs": [
        {
          "name": "stdout",
          "output_type": "stream",
          "text": "[\n\n    {\n\n        \"CandidateName\": \"automl-dm-17011361583CrgHRI7oc5M-001-3da8196d\",\n\n        \"CandidateProperties\": {\n\n            \"CandidateArtifactLocations\": {\n\n                \"Explainability\": \"s3://sagemaker-us-east-1-594527930436/autopilot/automl-dm-1701136158/documentation/explainability/output\",\n\n                \"ModelInsights\": \"s3://sagemaker-us-east-1-594527930436/autopilot/automl-dm-1701136158/documentation/model_monitor/output\"\n\n            },\n\n            \"CandidateMetrics\": [\n\n                {\n\n                    \"MetricName\": \"F1macro\",\n\n                    \"Set\": \"Validation\",\n\n                    \"StandardMetricName\": \"F1macro\",\n\n                    \"Value\": 0.5687199831008911\n\n                },\n\n                {\n\n                    \"MetricName\": \"PrecisionMacro\",\n\n                    \"Set\": \"Validation\",\n\n                    \"StandardMetricName\": \"PrecisionMacro\",\n\n                    \"Value\": 0.5674899816513062\n\n                },\n\n                {\n\n                    \"MetricName\": \"Accuracy\",\n\n                    \"Set\": \"Validation\",\n\n                    \"StandardMetricName\": \"Accuracy\",\n\n                    \"Value\": 0.5742599964141846\n\n                },\n\n                {\n\n                    \"MetricName\": \"BalancedAccuracy\",\n\n                    \"Set\": \"Validation\",\n\n                    \"StandardMetricName\": \"BalancedAccuracy\",\n\n                    \"Value\": 0.5742599964141846\n\n                },\n\n                {\n\n                    \"MetricName\": \"LogLoss\",\n\n                    \"Set\": \"Validation\",\n\n                    \"StandardMetricName\": \"LogLoss\",\n\n                    \"Value\": 0.9105200171470642\n\n                },\n\n                {\n\n                    \"MetricName\": \"RecallMacro\",\n\n                    \"Set\": \"Validation\",\n\n                    \"StandardMetricName\": \"RecallMacro\",\n\n                    \"Value\": 0.5742599964141846\n\n                }\n\n            ]\n\n        },\n\n        \"CandidateStatus\": \"Completed\",\n\n        \"CandidateSteps\": [\n\n            {\n\n                \"CandidateStepArn\": \"arn:aws:sagemaker:us-east-1:594527930436:processing-job/automl-dm-1701136158-db-1-0b0d9d558ce24973a04b791bc2a2a69874fbd\",\n\n                \"CandidateStepName\": \"automl-dm-1701136158-db-1-0b0d9d558ce24973a04b791bc2a2a69874fbd\",\n\n                \"CandidateStepType\": \"AWS::SageMaker::ProcessingJob\"\n\n            },\n\n            {\n\n                \"CandidateStepArn\": \"arn:aws:sagemaker:us-east-1:594527930436:training-job/automl-dm-1701136158-dpp0-1-6bc13523560347fc982b4056c89081b4297\",\n\n                \"CandidateStepName\": \"automl-dm-1701136158-dpp0-1-6bc13523560347fc982b4056c89081b4297\",\n\n                \"CandidateStepType\": \"AWS::SageMaker::TrainingJob\"\n\n            },\n\n            {\n\n                \"CandidateStepArn\": \"arn:aws:sagemaker:us-east-1:594527930436:transform-job/automl-dm-1701136158-dpp0-rpb-1-80504e7464154143a168a5d4d4f51a4\",\n\n                \"CandidateStepName\": \"automl-dm-1701136158-dpp0-rpb-1-80504e7464154143a168a5d4d4f51a4\",\n\n                \"CandidateStepType\": \"AWS::SageMaker::TransformJob\"\n\n            },\n\n            {\n\n                \"CandidateStepArn\": \"arn:aws:sagemaker:us-east-1:594527930436:training-job/automl-dm-17011361583CrgHRI7oc5M-001-3da8196d\",\n\n                \"CandidateStepName\": \"automl-dm-17011361583CrgHRI7oc5M-001-3da8196d\",\n\n                \"CandidateStepType\": \"AWS::SageMaker::TrainingJob\"\n\n            }\n\n        ],\n\n        \"CreationTime\": \"2023-11-28 02:11:47+00:00\",\n\n        \"EndTime\": \"2023-11-28 02:17:05+00:00\",\n\n        \"FinalAutoMLJobObjectiveMetric\": {\n\n            \"MetricName\": \"validation:accuracy\",\n\n            \"StandardMetricName\": \"Accuracy\",\n\n            \"Value\": 0.5742599964141846\n\n        },\n\n        \"InferenceContainers\": [\n\n            {\n\n                \"Environment\": {\n\n                    \"AUTOML_SPARSE_ENCODE_RECORDIO_PROTOBUF\": \"1\",\n\n                    \"AUTOML_TRANSFORM_MODE\": \"feature-transform\",\n\n                    \"SAGEMAKER_DEFAULT_INVOCATIONS_ACCEPT\": \"application/x-recordio-protobuf\",\n\n                    \"SAGEMAKER_PROGRAM\": \"sagemaker_serve\",\n\n                    \"SAGEMAKER_SUBMIT_DIRECTORY\": \"/opt/ml/model/code\"\n\n                },\n\n                \"Image\": \"683313688378.dkr.ecr.us-east-1.amazonaws.com/sagemaker-sklearn-automl:2.5-1-cpu-py3\",\n\n                \"ModelDataUrl\": \"s3://sagemaker-us-east-1-594527930436/autopilot/automl-dm-1701136158/data-processor-models/automl-dm-1701136158-dpp0-1-6bc13523560347fc982b4056c89081b4297/output/model.tar.gz\"\n\n            },\n\n            {\n\n                \"Environment\": {\n\n                    \"MAX_CONTENT_LENGTH\": \"20971520\",\n\n                    \"SAGEMAKER_DEFAULT_INVOCATIONS_ACCEPT\": \"text/csv\",\n\n                    \"SAGEMAKER_INFERENCE_OUTPUT\": \"predicted_label\",\n\n                    \"SAGEMAKER_INFERENCE_SUPPORTED\": \"predicted_label,probability,probabilities\"\n\n                },\n\n                \"Image\": \"683313688378.dkr.ecr.us-east-1.amazonaws.com/sagemaker-xgboost:1.3-1-cpu-py3\",\n\n                \"ModelDataUrl\": \"s3://sagemaker-us-east-1-594527930436/autopilot/automl-dm-1701136158/tuning/automl-dm--dpp0-xgb/automl-dm-17011361583CrgHRI7oc5M-001-3da8196d/output/model.tar.gz\"\n\n            },\n\n            {\n\n                \"Environment\": {\n\n                    \"AUTOML_TRANSFORM_MODE\": \"inverse-label-transform\",\n\n                    \"SAGEMAKER_DEFAULT_INVOCATIONS_ACCEPT\": \"text/csv\",\n\n                    \"SAGEMAKER_INFERENCE_INPUT\": \"predicted_label\",\n\n                    \"SAGEMAKER_INFERENCE_OUTPUT\": \"predicted_label\",\n\n                    \"SAGEMAKER_INFERENCE_SUPPORTED\": \"predicted_label,probability,labels,probabilities\",\n\n                    \"SAGEMAKER_PROGRAM\": \"sagemaker_serve\",\n\n                    \"SAGEMAKER_SUBMIT_DIRECTORY\": \"/opt/ml/model/code\"\n\n                },\n\n                \"Image\": \"683313688378.dkr.ecr.us-east-1.amazonaws.com/sagemaker-sklearn-automl:2.5-1-cpu-py3\",\n\n                \"ModelDataUrl\": \"s3://sagemaker-us-east-1-594527930436/autopilot/automl-dm-1701136158/data-processor-models/automl-dm-1701136158-dpp0-1-6bc13523560347fc982b4056c89081b4297/output/model.tar.gz\"\n\n            }\n\n        ],\n\n        \"LastModifiedTime\": \"2023-11-28 02:22:33.628000+00:00\",\n\n        \"ObjectiveStatus\": \"Succeeded\"\n\n    },\n\n    {\n\n        \"CandidateName\": \"automl-dm-17011361583CrgHRI7oc5M-003-9d3cf397\",\n\n        \"CandidateProperties\": {\n\n            \"CandidateMetrics\": [\n\n                {\n\n                    \"MetricName\": \"F1macro\",\n\n                    \"Set\": \"Validation\",\n\n                    \"StandardMetricName\": \"F1macro\",\n\n                    \"Value\": 0.5378400087356567\n\n                },\n\n                {\n\n                    \"MetricName\": \"PrecisionMacro\",\n\n                    \"Set\": \"Validation\",\n\n                    \"StandardMetricName\": \"PrecisionMacro\",\n\n                    \"Value\": 0.5382599830627441\n\n                },\n\n                {\n\n                    \"MetricName\": \"Accuracy\",\n\n                    \"Set\": \"Validation\",\n\n                    \"StandardMetricName\": \"Accuracy\",\n\n                    \"Value\": 0.5417699813842773\n\n                },\n\n                {\n\n                    \"MetricName\": \"BalancedAccuracy\",\n\n                    \"Set\": \"Validation\",\n\n                    \"StandardMetricName\": \"BalancedAccuracy\",\n\n                    \"Value\": 0.5417699813842773\n\n                },\n\n                {\n\n                    \"MetricName\": \"LogLoss\",\n\n                    \"Set\": \"Validation\",\n\n                    \"StandardMetricName\": \"LogLoss\",\n\n                    \"Value\": 1.0602200031280518\n\n                },\n\n                {\n\n                    \"MetricName\": \"RecallMacro\",\n\n                    \"Set\": \"Validation\",\n\n                    \"StandardMetricName\": \"RecallMacro\",\n\n                    \"Value\": 0.5417699813842773\n\n                }\n\n            ]\n\n        },\n\n        \"CandidateStatus\": \"Completed\",\n\n        \"CandidateSteps\": [\n\n            {\n\n                \"CandidateStepArn\": \"arn:aws:sagemaker:us-east-1:594527930436:processing-job/automl-dm-1701136158-db-1-0b0d9d558ce24973a04b791bc2a2a69874fbd\",\n\n                \"CandidateStepName\": \"automl-dm-1701136158-db-1-0b0d9d558ce24973a04b791bc2a2a69874fbd\",\n\n                \"CandidateStepType\": \"AWS::SageMaker::ProcessingJob\"\n\n            },\n\n            {\n\n                \"CandidateStepArn\": \"arn:aws:sagemaker:us-east-1:594527930436:training-job/automl-dm-1701136158-dpp0-1-6bc13523560347fc982b4056c89081b4297\",\n\n                \"CandidateStepName\": \"automl-dm-1701136158-dpp0-1-6bc13523560347fc982b4056c89081b4297\",\n\n                \"CandidateStepType\": \"AWS::SageMaker::TrainingJob\"\n\n            },\n\n            {\n\n                \"CandidateStepArn\": \"arn:aws:sagemaker:us-east-1:594527930436:transform-job/automl-dm-1701136158-dpp0-rpb-1-80504e7464154143a168a5d4d4f51a4\",\n\n                \"CandidateStepName\": \"automl-dm-1701136158-dpp0-rpb-1-80504e7464154143a168a5d4d4f51a4\",\n\n                \"CandidateStepType\": \"AWS::SageMaker::TransformJob\"\n\n            },\n\n            {\n\n                \"CandidateStepArn\": \"arn:aws:sagemaker:us-east-1:594527930436:training-job/automl-dm-17011361583CrgHRI7oc5M-003-9d3cf397\",\n\n                \"CandidateStepName\": \"automl-dm-17011361583CrgHRI7oc5M-003-9d3cf397\",\n\n                \"CandidateStepType\": \"AWS::SageMaker::TrainingJob\"\n\n            }\n\n        ],\n\n        \"CreationTime\": \"2023-11-28 02:11:44+00:00\",\n\n        \"EndTime\": \"2023-11-28 02:14:16+00:00\",\n\n        \"FinalAutoMLJobObjectiveMetric\": {\n\n            \"MetricName\": \"validation:accuracy\",\n\n            \"StandardMetricName\": \"Accuracy\",\n\n            \"Value\": 0.5417699813842773\n\n        },\n\n        \"InferenceContainers\": [\n\n            {\n\n                \"Environment\": {\n\n                    \"AUTOML_SPARSE_ENCODE_RECORDIO_PROTOBUF\": \"1\",\n\n                    \"AUTOML_TRANSFORM_MODE\": \"feature-transform\",\n\n                    \"SAGEMAKER_DEFAULT_INVOCATIONS_ACCEPT\": \"application/x-recordio-protobuf\",\n\n                    \"SAGEMAKER_PROGRAM\": \"sagemaker_serve\",\n\n                    \"SAGEMAKER_SUBMIT_DIRECTORY\": \"/opt/ml/model/code\"\n\n                },\n\n                \"Image\": \"683313688378.dkr.ecr.us-east-1.amazonaws.com/sagemaker-sklearn-automl:2.5-1-cpu-py3\",\n\n                \"ModelDataUrl\": \"s3://sagemaker-us-east-1-594527930436/autopilot/automl-dm-1701136158/data-processor-models/automl-dm-1701136158-dpp0-1-6bc13523560347fc982b4056c89081b4297/output/model.tar.gz\"\n\n            },\n\n            {\n\n                \"Environment\": {\n\n                    \"MAX_CONTENT_LENGTH\": \"20971520\",\n\n                    \"SAGEMAKER_DEFAULT_INVOCATIONS_ACCEPT\": \"text/csv\",\n\n                    \"SAGEMAKER_INFERENCE_OUTPUT\": \"predicted_label\",\n\n                    \"SAGEMAKER_INFERENCE_SUPPORTED\": \"predicted_label,probability,probabilities\"\n\n                },\n\n                \"Image\": \"683313688378.dkr.ecr.us-east-1.amazonaws.com/sagemaker-xgboost:1.3-1-cpu-py3\",\n\n                \"ModelDataUrl\": \"s3://sagemaker-us-east-1-594527930436/autopilot/automl-dm-1701136158/tuning/automl-dm--dpp0-xgb/automl-dm-17011361583CrgHRI7oc5M-003-9d3cf397/output/model.tar.gz\"\n\n            },\n\n            {\n\n                \"Environment\": {\n\n                    \"AUTOML_TRANSFORM_MODE\": \"inverse-label-transform\",\n\n                    \"SAGEMAKER_DEFAULT_INVOCATIONS_ACCEPT\": \"text/csv\",\n\n                    \"SAGEMAKER_INFERENCE_INPUT\": \"predicted_label\",\n\n                    \"SAGEMAKER_INFERENCE_OUTPUT\": \"predicted_label\",\n\n                    \"SAGEMAKER_INFERENCE_SUPPORTED\": \"predicted_label,probability,labels,probabilities\",\n\n                    \"SAGEMAKER_PROGRAM\": \"sagemaker_serve\",\n\n                    \"SAGEMAKER_SUBMIT_DIRECTORY\": \"/opt/ml/model/code\"\n\n                },\n\n                \"Image\": \"683313688378.dkr.ecr.us-east-1.amazonaws.com/sagemaker-sklearn-automl:2.5-1-cpu-py3\",\n\n                \"ModelDataUrl\": \"s3://sagemaker-us-east-1-594527930436/autopilot/automl-dm-1701136158/data-processor-models/automl-dm-1701136158-dpp0-1-6bc13523560347fc982b4056c89081b4297/output/model.tar.gz\"\n\n            }\n\n        ],\n\n        \"LastModifiedTime\": \"2023-11-28 02:22:33.559000+00:00\",\n\n        \"ObjectiveStatus\": \"Succeeded\"\n\n    },\n\n    {\n\n        \"CandidateName\": \"automl-dm-17011361583CrgHRI7oc5M-002-fad7b5b6\",\n\n        \"CandidateProperties\": {\n\n            \"CandidateMetrics\": [\n\n                {\n\n                    \"MetricName\": \"F1macro\",\n\n                    \"Set\": \"Validation\",\n\n                    \"StandardMetricName\": \"F1macro\",\n\n                    \"Value\": 0.41495001316070557\n\n                },\n\n                {\n\n                    \"MetricName\": \"PrecisionMacro\",\n\n                    \"Set\": \"Validation\",\n\n                    \"StandardMetricName\": \"PrecisionMacro\",\n\n                    \"Value\": 0.42465999722480774\n\n                },\n\n                {\n\n                    \"MetricName\": \"Accuracy\",\n\n                    \"Set\": \"Validation\",\n\n                    \"StandardMetricName\": \"Accuracy\",\n\n                    \"Value\": 0.4245699942111969\n\n                },\n\n                {\n\n                    \"MetricName\": \"BalancedAccuracy\",\n\n                    \"Set\": \"Validation\",\n\n                    \"StandardMetricName\": \"BalancedAccuracy\",\n\n                    \"Value\": 0.4245699942111969\n\n                },\n\n                {\n\n                    \"MetricName\": \"LogLoss\",\n\n                    \"Set\": \"Validation\",\n\n                    \"StandardMetricName\": \"LogLoss\",\n\n                    \"Value\": 1.0597000122070312\n\n                },\n\n                {\n\n                    \"MetricName\": \"RecallMacro\",\n\n                    \"Set\": \"Validation\",\n\n                    \"StandardMetricName\": \"RecallMacro\",\n\n                    \"Value\": 0.4245699942111969\n\n                }\n\n            ]\n\n        },\n\n        \"CandidateStatus\": \"Completed\",\n\n        \"CandidateSteps\": [\n\n            {\n\n                \"CandidateStepArn\": \"arn:aws:sagemaker:us-east-1:594527930436:processing-job/automl-dm-1701136158-db-1-0b0d9d558ce24973a04b791bc2a2a69874fbd\",\n\n                \"CandidateStepName\": \"automl-dm-1701136158-db-1-0b0d9d558ce24973a04b791bc2a2a69874fbd\",\n\n                \"CandidateStepType\": \"AWS::SageMaker::ProcessingJob\"\n\n            },\n\n            {\n\n                \"CandidateStepArn\": \"arn:aws:sagemaker:us-east-1:594527930436:training-job/automl-dm-1701136158-dpp1-1-bea4b5f03eec4884b2c5cc2f70bc7dc7566\",\n\n                \"CandidateStepName\": \"automl-dm-1701136158-dpp1-1-bea4b5f03eec4884b2c5cc2f70bc7dc7566\",\n\n                \"CandidateStepType\": \"AWS::SageMaker::TrainingJob\"\n\n            },\n\n            {\n\n                \"CandidateStepArn\": \"arn:aws:sagemaker:us-east-1:594527930436:transform-job/automl-dm-1701136158-dpp1-csv-1-508ed6177823433d83b62a1235f0196\",\n\n                \"CandidateStepName\": \"automl-dm-1701136158-dpp1-csv-1-508ed6177823433d83b62a1235f0196\",\n\n                \"CandidateStepType\": \"AWS::SageMaker::TransformJob\"\n\n            },\n\n            {\n\n                \"CandidateStepArn\": \"arn:aws:sagemaker:us-east-1:594527930436:training-job/automl-dm-17011361583CrgHRI7oc5M-002-fad7b5b6\",\n\n                \"CandidateStepName\": \"automl-dm-17011361583CrgHRI7oc5M-002-fad7b5b6\",\n\n                \"CandidateStepType\": \"AWS::SageMaker::TrainingJob\"\n\n            }\n\n        ],\n\n        \"CreationTime\": \"2023-11-28 02:11:42+00:00\",\n\n        \"EndTime\": \"2023-11-28 02:21:51+00:00\",\n\n        \"FinalAutoMLJobObjectiveMetric\": {\n\n            \"MetricName\": \"validation:accuracy\",\n\n            \"StandardMetricName\": \"Accuracy\",\n\n            \"Value\": 0.4245699942111969\n\n        },\n\n        \"InferenceContainers\": [\n\n            {\n\n                \"Environment\": {\n\n                    \"AUTOML_TRANSFORM_MODE\": \"feature-transform\",\n\n                    \"SAGEMAKER_DEFAULT_INVOCATIONS_ACCEPT\": \"application/x-recordio-protobuf\",\n\n                    \"SAGEMAKER_PROGRAM\": \"sagemaker_serve\",\n\n                    \"SAGEMAKER_SUBMIT_DIRECTORY\": \"/opt/ml/model/code\"\n\n                },\n\n                \"Image\": \"683313688378.dkr.ecr.us-east-1.amazonaws.com/sagemaker-sklearn-automl:2.5-1-cpu-py3\",\n\n                \"ModelDataUrl\": \"s3://sagemaker-us-east-1-594527930436/autopilot/automl-dm-1701136158/data-processor-models/automl-dm-1701136158-dpp1-1-bea4b5f03eec4884b2c5cc2f70bc7dc7566/output/model.tar.gz\"\n\n            },\n\n            {\n\n                \"Environment\": {\n\n                    \"MAX_CONTENT_LENGTH\": \"20971520\",\n\n                    \"SAGEMAKER_DEFAULT_INVOCATIONS_ACCEPT\": \"text/csv\",\n\n                    \"SAGEMAKER_INFERENCE_OUTPUT\": \"predicted_label\",\n\n                    \"SAGEMAKER_INFERENCE_SUPPORTED\": \"predicted_label,probability,probabilities\"\n\n                },\n\n                \"Image\": \"683313688378.dkr.ecr.us-east-1.amazonaws.com/sagemaker-xgboost:1.3-1-cpu-py3\",\n\n                \"ModelDataUrl\": \"s3://sagemaker-us-east-1-594527930436/autopilot/automl-dm-1701136158/tuning/automl-dm--dpp1-xgb/automl-dm-17011361583CrgHRI7oc5M-002-fad7b5b6/output/model.tar.gz\"\n\n            },\n\n            {\n\n                \"Environment\": {\n\n                    \"AUTOML_TRANSFORM_MODE\": \"inverse-label-transform\",\n\n                    \"SAGEMAKER_DEFAULT_INVOCATIONS_ACCEPT\": \"text/csv\",\n\n                    \"SAGEMAKER_INFERENCE_INPUT\": \"predicted_label\",\n\n                    \"SAGEMAKER_INFERENCE_OUTPUT\": \"predicted_label\",\n\n                    \"SAGEMAKER_INFERENCE_SUPPORTED\": \"predicted_label,probability,labels,probabilities\",\n\n                    \"SAGEMAKER_PROGRAM\": \"sagemaker_serve\",\n\n                    \"SAGEMAKER_SUBMIT_DIRECTORY\": \"/opt/ml/model/code\"\n\n                },\n\n                \"Image\": \"683313688378.dkr.ecr.us-east-1.amazonaws.com/sagemaker-sklearn-automl:2.5-1-cpu-py3\",\n\n                \"ModelDataUrl\": \"s3://sagemaker-us-east-1-594527930436/autopilot/automl-dm-1701136158/data-processor-models/automl-dm-1701136158-dpp1-1-bea4b5f03eec4884b2c5cc2f70bc7dc7566/output/model.tar.gz\"\n\n            }\n\n        ],\n\n        \"LastModifiedTime\": \"2023-11-28 02:22:33.561000+00:00\",\n\n        \"ObjectiveStatus\": \"Succeeded\"\n\n    }\n\n]\n"
        }
      ]
    },
    {
      "cell_type": "markdown",
      "source": "Print the names of the candidates with their metric values:",
      "metadata": {}
    },
    {
      "cell_type": "code",
      "source": "print(\"metric \" + str(candidates[0]['FinalAutoMLJobObjectiveMetric']['MetricName']))\n\nfor index, candidate in enumerate(candidates):\n    print(str(index) + \"  \" \n        + candidate['CandidateName'] + \"  \" \n        + str(candidate['FinalAutoMLJobObjectiveMetric']['Value']))",
      "metadata": {
        "tags": []
      },
      "execution_count": 32,
      "outputs": [
        {
          "name": "stdout",
          "output_type": "stream",
          "text": "metric validation:accuracy\n\n0  automl-dm-17011361583CrgHRI7oc5M-001-3da8196d  0.5742599964141846\n\n1  automl-dm-17011361583CrgHRI7oc5M-003-9d3cf397  0.5417699813842773\n\n2  automl-dm-17011361583CrgHRI7oc5M-002-fad7b5b6  0.4245699942111969\n"
        }
      ]
    },
    {
      "cell_type": "markdown",
      "source": "## 6.2. Review Best Candidate\n\nHaving successfully concluded the Autopilot job on the dataset and visualized the trials, we can now retrieve information about the best candidate model and review its details.",
      "metadata": {}
    },
    {
      "cell_type": "code",
      "source": "# Retrieve information about the best candidate job generated.\ncandidates = automl.list_candidates(job_name=auto_ml_job_name)\n\nif candidates != []:\n    best_candidate = automl.best_candidate(        \n        job_name=auto_ml_job_name         \n    )\n    print(json.dumps(best_candidate, indent=4, sort_keys=True, default=str))",
      "metadata": {
        "tags": []
      },
      "execution_count": 34,
      "outputs": [
        {
          "name": "stdout",
          "output_type": "stream",
          "text": "{\n\n    \"CandidateName\": \"automl-dm-17011361583CrgHRI7oc5M-001-3da8196d\",\n\n    \"CandidateProperties\": {\n\n        \"CandidateArtifactLocations\": {\n\n            \"Explainability\": \"s3://sagemaker-us-east-1-594527930436/autopilot/automl-dm-1701136158/documentation/explainability/output\",\n\n            \"ModelInsights\": \"s3://sagemaker-us-east-1-594527930436/autopilot/automl-dm-1701136158/documentation/model_monitor/output\"\n\n        },\n\n        \"CandidateMetrics\": [\n\n            {\n\n                \"MetricName\": \"F1macro\",\n\n                \"Set\": \"Validation\",\n\n                \"StandardMetricName\": \"F1macro\",\n\n                \"Value\": 0.5687199831008911\n\n            },\n\n            {\n\n                \"MetricName\": \"PrecisionMacro\",\n\n                \"Set\": \"Validation\",\n\n                \"StandardMetricName\": \"PrecisionMacro\",\n\n                \"Value\": 0.5674899816513062\n\n            },\n\n            {\n\n                \"MetricName\": \"Accuracy\",\n\n                \"Set\": \"Validation\",\n\n                \"StandardMetricName\": \"Accuracy\",\n\n                \"Value\": 0.5742599964141846\n\n            },\n\n            {\n\n                \"MetricName\": \"BalancedAccuracy\",\n\n                \"Set\": \"Validation\",\n\n                \"StandardMetricName\": \"BalancedAccuracy\",\n\n                \"Value\": 0.5742599964141846\n\n            },\n\n            {\n\n                \"MetricName\": \"LogLoss\",\n\n                \"Set\": \"Validation\",\n\n                \"StandardMetricName\": \"LogLoss\",\n\n                \"Value\": 0.9105200171470642\n\n            },\n\n            {\n\n                \"MetricName\": \"RecallMacro\",\n\n                \"Set\": \"Validation\",\n\n                \"StandardMetricName\": \"RecallMacro\",\n\n                \"Value\": 0.5742599964141846\n\n            }\n\n        ]\n\n    },\n\n    \"CandidateStatus\": \"Completed\",\n\n    \"CandidateSteps\": [\n\n        {\n\n            \"CandidateStepArn\": \"arn:aws:sagemaker:us-east-1:594527930436:processing-job/automl-dm-1701136158-db-1-0b0d9d558ce24973a04b791bc2a2a69874fbd\",\n\n            \"CandidateStepName\": \"automl-dm-1701136158-db-1-0b0d9d558ce24973a04b791bc2a2a69874fbd\",\n\n            \"CandidateStepType\": \"AWS::SageMaker::ProcessingJob\"\n\n        },\n\n        {\n\n            \"CandidateStepArn\": \"arn:aws:sagemaker:us-east-1:594527930436:training-job/automl-dm-1701136158-dpp0-1-6bc13523560347fc982b4056c89081b4297\",\n\n            \"CandidateStepName\": \"automl-dm-1701136158-dpp0-1-6bc13523560347fc982b4056c89081b4297\",\n\n            \"CandidateStepType\": \"AWS::SageMaker::TrainingJob\"\n\n        },\n\n        {\n\n            \"CandidateStepArn\": \"arn:aws:sagemaker:us-east-1:594527930436:transform-job/automl-dm-1701136158-dpp0-rpb-1-80504e7464154143a168a5d4d4f51a4\",\n\n            \"CandidateStepName\": \"automl-dm-1701136158-dpp0-rpb-1-80504e7464154143a168a5d4d4f51a4\",\n\n            \"CandidateStepType\": \"AWS::SageMaker::TransformJob\"\n\n        },\n\n        {\n\n            \"CandidateStepArn\": \"arn:aws:sagemaker:us-east-1:594527930436:training-job/automl-dm-17011361583CrgHRI7oc5M-001-3da8196d\",\n\n            \"CandidateStepName\": \"automl-dm-17011361583CrgHRI7oc5M-001-3da8196d\",\n\n            \"CandidateStepType\": \"AWS::SageMaker::TrainingJob\"\n\n        }\n\n    ],\n\n    \"CreationTime\": \"2023-11-28 02:11:47+00:00\",\n\n    \"EndTime\": \"2023-11-28 02:17:05+00:00\",\n\n    \"FinalAutoMLJobObjectiveMetric\": {\n\n        \"MetricName\": \"validation:accuracy\",\n\n        \"StandardMetricName\": \"Accuracy\",\n\n        \"Value\": 0.5742599964141846\n\n    },\n\n    \"InferenceContainers\": [\n\n        {\n\n            \"Environment\": {\n\n                \"AUTOML_SPARSE_ENCODE_RECORDIO_PROTOBUF\": \"1\",\n\n                \"AUTOML_TRANSFORM_MODE\": \"feature-transform\",\n\n                \"SAGEMAKER_DEFAULT_INVOCATIONS_ACCEPT\": \"application/x-recordio-protobuf\",\n\n                \"SAGEMAKER_PROGRAM\": \"sagemaker_serve\",\n\n                \"SAGEMAKER_SUBMIT_DIRECTORY\": \"/opt/ml/model/code\"\n\n            },\n\n            \"Image\": \"683313688378.dkr.ecr.us-east-1.amazonaws.com/sagemaker-sklearn-automl:2.5-1-cpu-py3\",\n\n            \"ModelDataUrl\": \"s3://sagemaker-us-east-1-594527930436/autopilot/automl-dm-1701136158/data-processor-models/automl-dm-1701136158-dpp0-1-6bc13523560347fc982b4056c89081b4297/output/model.tar.gz\"\n\n        },\n\n        {\n\n            \"Environment\": {\n\n                \"MAX_CONTENT_LENGTH\": \"20971520\",\n\n                \"SAGEMAKER_DEFAULT_INVOCATIONS_ACCEPT\": \"text/csv\",\n\n                \"SAGEMAKER_INFERENCE_OUTPUT\": \"predicted_label\",\n\n                \"SAGEMAKER_INFERENCE_SUPPORTED\": \"predicted_label,probability,probabilities\"\n\n            },\n\n            \"Image\": \"683313688378.dkr.ecr.us-east-1.amazonaws.com/sagemaker-xgboost:1.3-1-cpu-py3\",\n\n            \"ModelDataUrl\": \"s3://sagemaker-us-east-1-594527930436/autopilot/automl-dm-1701136158/tuning/automl-dm--dpp0-xgb/automl-dm-17011361583CrgHRI7oc5M-001-3da8196d/output/model.tar.gz\"\n\n        },\n\n        {\n\n            \"Environment\": {\n\n                \"AUTOML_TRANSFORM_MODE\": \"inverse-label-transform\",\n\n                \"SAGEMAKER_DEFAULT_INVOCATIONS_ACCEPT\": \"text/csv\",\n\n                \"SAGEMAKER_INFERENCE_INPUT\": \"predicted_label\",\n\n                \"SAGEMAKER_INFERENCE_OUTPUT\": \"predicted_label\",\n\n                \"SAGEMAKER_INFERENCE_SUPPORTED\": \"predicted_label,probability,labels,probabilities\",\n\n                \"SAGEMAKER_PROGRAM\": \"sagemaker_serve\",\n\n                \"SAGEMAKER_SUBMIT_DIRECTORY\": \"/opt/ml/model/code\"\n\n            },\n\n            \"Image\": \"683313688378.dkr.ecr.us-east-1.amazonaws.com/sagemaker-sklearn-automl:2.5-1-cpu-py3\",\n\n            \"ModelDataUrl\": \"s3://sagemaker-us-east-1-594527930436/autopilot/automl-dm-1701136158/data-processor-models/automl-dm-1701136158-dpp0-1-6bc13523560347fc982b4056c89081b4297/output/model.tar.gz\"\n\n        }\n\n    ],\n\n    \"LastModifiedTime\": \"2023-11-28 02:22:33.628000+00:00\",\n\n    \"ObjectiveStatus\": \"Succeeded\"\n\n}\n"
        }
      ]
    },
    {
      "cell_type": "markdown",
      "source": "Check the existence of the candidate name for the best candidate.",
      "metadata": {}
    },
    {
      "cell_type": "code",
      "source": "while 'CandidateName' not in best_candidate:\n    best_candidate = automl.best_candidate(job_name=auto_ml_job_name)\n    print('[INFO] Autopilot Job is generating BestCandidate CandidateName. Please wait. ')\n    print(json.dumps(best_candidate, indent=4, sort_keys=True, default=str))\n    sleep(10)\n\nprint('[OK] BestCandidate CandidateName generated.')  ",
      "metadata": {
        "tags": []
      },
      "execution_count": 35,
      "outputs": [
        {
          "name": "stdout",
          "output_type": "stream",
          "text": "[OK] BestCandidate CandidateName generated.\n"
        }
      ]
    },
    {
      "cell_type": "markdown",
      "source": "Check the existence of the metric value for the best candidate.",
      "metadata": {}
    },
    {
      "cell_type": "code",
      "source": "while 'FinalAutoMLJobObjectiveMetric' not in best_candidate:\n    best_candidate = automl.best_candidate(job_name=auto_ml_job_name)\n    print('[INFO] Autopilot Job is generating BestCandidate FinalAutoMLJobObjectiveMetric. Please wait. ')\n    print(json.dumps(best_candidate, indent=4, sort_keys=True, default=str))\n    sleep(10)\n\nprint('[OK] BestCandidate FinalAutoMLJobObjectiveMetric generated.')  ",
      "metadata": {
        "tags": []
      },
      "execution_count": 36,
      "outputs": [
        {
          "name": "stdout",
          "output_type": "stream",
          "text": "[OK] BestCandidate FinalAutoMLJobObjectiveMetric generated.\n"
        }
      ]
    },
    {
      "cell_type": "markdown",
      "source": "Print the information about the best candidate:",
      "metadata": {}
    },
    {
      "cell_type": "code",
      "source": "best_candidate_identifier = best_candidate['CandidateName']\nprint(\"Candidate name: \" + best_candidate_identifier)\nprint(\"Metric name: \" + best_candidate['FinalAutoMLJobObjectiveMetric']['MetricName'])\nprint(\"Metric value: \" + str(best_candidate['FinalAutoMLJobObjectiveMetric']['Value']))",
      "metadata": {
        "tags": []
      },
      "execution_count": 37,
      "outputs": [
        {
          "name": "stdout",
          "output_type": "stream",
          "text": "Candidate name: automl-dm-17011361583CrgHRI7oc5M-001-3da8196d\n\nMetric name: validation:accuracy\n\nMetric value: 0.5742599964141846\n"
        }
      ]
    },
    {
      "cell_type": "markdown",
      "source": "Below is the artifacts generated by Autopilot, I've downloaded some of the output documents and will submit them on Blackboard:\n```\ndata-processor-models/        # \"models\" learned to transform raw data into features \ndocumentation/                # explainability and other documentation about the model\npreprocessed-data/            # data for train and validation\nsagemaker-automl-candidates/  # candidate models which autopilot compares\ntransformed-data/             # candidate-specific data for train and validation\ntuning/                       # candidate-specific tuning results\nvalidations/                  # validation results\n```",
      "metadata": {}
    },
    {
      "cell_type": "code",
      "source": "from IPython.core.display import display, HTML\n\ndisplay(\n    HTML(\n        '<b>Review all <a target=\"blank\" href=\"https://s3.console.aws.amazon.com/s3/buckets/{}?region={}&prefix=autopilot/{}/\">output in S3</a></b>'.format(\n            bucket, region, auto_ml_job_name\n        )\n    )\n)",
      "metadata": {
        "tags": []
      },
      "execution_count": 38,
      "outputs": [
        {
          "output_type": "display_data",
          "data": {
            "text/html": [
              "<b>Review all <a target=\"blank\" href=\"https://s3.console.aws.amazon.com/s3/buckets/sagemaker-us-east-1-594527930436?region=us-east-1&prefix=autopilot/automl-dm-1701136158/\">output in S3</a></b>"
            ],
            "text/plain": [
              "<IPython.core.display.HTML object>"
            ]
          },
          "metadata": {}
        }
      ]
    },
    {
      "cell_type": "markdown",
      "source": "# 7. Deploy and Test Best Candidate Model",
      "metadata": {}
    },
    {
      "cell_type": "code",
      "source": "inference_response_keys = ['predicted_label', 'probability']",
      "metadata": {
        "tags": []
      },
      "execution_count": 39,
      "outputs": []
    },
    {
      "cell_type": "code",
      "source": "autopilot_model = automl.deploy(\n    initial_instance_count=1,\n    instance_type='ml.m5.large',\n    candidate=best_candidate,\n    inference_response_keys=inference_response_keys,\n    predictor_cls=sagemaker.predictor.Predictor,\n    serializer=sagemaker.serializers.JSONSerializer(),\n    deserializer=sagemaker.deserializers.JSONDeserializer()\n)\n\nprint('\\nEndpoint name:  {}'.format(autopilot_model.endpoint_name))",
      "metadata": {
        "tags": []
      },
      "execution_count": 40,
      "outputs": [
        {
          "name": "stdout",
          "output_type": "stream",
          "text": "--------!\n\nEndpoint name:  sagemaker-sklearn-automl-2023-11-28-02-35-19-022\n"
        }
      ]
    },
    {
      "cell_type": "markdown",
      "source": "Review the SageMaker endpoint in the AWS console.",
      "metadata": {}
    },
    {
      "cell_type": "code",
      "source": "from IPython.core.display import display, HTML\n\ndisplay(HTML('<b>Review <a target=\"blank\" href=\"https://console.aws.amazon.com/sagemaker/home?region={}#/endpoints/{}\">SageMaker REST endpoint</a></b>'.format(region, autopilot_model.endpoint_name)))",
      "metadata": {
        "tags": []
      },
      "execution_count": 41,
      "outputs": [
        {
          "output_type": "display_data",
          "data": {
            "text/html": [
              "<b>Review <a target=\"blank\" href=\"https://console.aws.amazon.com/sagemaker/home?region=us-east-1#/endpoints/sagemaker-sklearn-automl-2023-11-28-02-35-19-022\">SageMaker REST endpoint</a></b>"
            ],
            "text/plain": [
              "<IPython.core.display.HTML object>"
            ]
          },
          "metadata": {}
        }
      ]
    },
    {
      "cell_type": "code",
      "source": "# Test the model\n# Generate predictions for a few actual reviews using the deployed endpoint.\n\nreview_list = ['This product is great!',\n               'OK, but not great.',\n               'This is not the right product.']\n\nfor review in review_list:\n    \n    # remove commas from the review since we're passing the inputs as a CSV\n    review = review.replace(\",\", \"\")\n\n    response = sm_runtime.invoke_endpoint(\n        EndpointName=autopilot_model.endpoint_name, # endpoint name\n        ContentType='text/csv', # type of input data\n        Accept='text/csv', # type of the inference in the response\n        Body=review # review text\n        )\n\n    response_body=response['Body'].read().decode('utf-8').strip().split(',')\n\n    print('Review: ', review, ' Predicated class: {}'.format(response_body[0]))\n\nprint(\"(-1 = Negative, 0=Neutral, 1=Positive)\")",
      "metadata": {
        "tags": []
      },
      "execution_count": 42,
      "outputs": [
        {
          "name": "stdout",
          "output_type": "stream",
          "text": "Review:  This product is great!  Predicated class: 1\n\nReview:  OK but not great.  Predicated class: 1\n\nReview:  This is not the right product.  Predicated class: -1\n\n(-1 = Negative, 0=Neutral, 1=Positive)\n"
        }
      ]
    },
    {
      "cell_type": "markdown",
      "source": "We used Amazon SageMaker Autopilot to automatically find the best model, hyper-parameters, and feature-engineering scripts for our dataset. Autopilot uses a uniquely-transparent approach to AutoML by generating re-usable Python scripts and notebooks.",
      "metadata": {}
    }
  ]
}