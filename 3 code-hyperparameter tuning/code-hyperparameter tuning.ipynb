{
  "metadata": {
    "availableInstances": [
      {
        "_defaultOrder": 0,
        "_isFastLaunch": true,
        "category": "General purpose",
        "gpuNum": 0,
        "hideHardwareSpecs": false,
        "memoryGiB": 4,
        "name": "ml.t3.medium",
        "vcpuNum": 2
      },
      {
        "_defaultOrder": 1,
        "_isFastLaunch": false,
        "category": "General purpose",
        "gpuNum": 0,
        "hideHardwareSpecs": false,
        "memoryGiB": 8,
        "name": "ml.t3.large",
        "vcpuNum": 2
      },
      {
        "_defaultOrder": 2,
        "_isFastLaunch": false,
        "category": "General purpose",
        "gpuNum": 0,
        "hideHardwareSpecs": false,
        "memoryGiB": 16,
        "name": "ml.t3.xlarge",
        "vcpuNum": 4
      },
      {
        "_defaultOrder": 3,
        "_isFastLaunch": false,
        "category": "General purpose",
        "gpuNum": 0,
        "hideHardwareSpecs": false,
        "memoryGiB": 32,
        "name": "ml.t3.2xlarge",
        "vcpuNum": 8
      },
      {
        "_defaultOrder": 4,
        "_isFastLaunch": true,
        "category": "General purpose",
        "gpuNum": 0,
        "hideHardwareSpecs": false,
        "memoryGiB": 8,
        "name": "ml.m5.large",
        "vcpuNum": 2
      },
      {
        "_defaultOrder": 5,
        "_isFastLaunch": false,
        "category": "General purpose",
        "gpuNum": 0,
        "hideHardwareSpecs": false,
        "memoryGiB": 16,
        "name": "ml.m5.xlarge",
        "vcpuNum": 4
      },
      {
        "_defaultOrder": 6,
        "_isFastLaunch": false,
        "category": "General purpose",
        "gpuNum": 0,
        "hideHardwareSpecs": false,
        "memoryGiB": 32,
        "name": "ml.m5.2xlarge",
        "vcpuNum": 8
      },
      {
        "_defaultOrder": 7,
        "_isFastLaunch": false,
        "category": "General purpose",
        "gpuNum": 0,
        "hideHardwareSpecs": false,
        "memoryGiB": 64,
        "name": "ml.m5.4xlarge",
        "vcpuNum": 16
      },
      {
        "_defaultOrder": 8,
        "_isFastLaunch": false,
        "category": "General purpose",
        "gpuNum": 0,
        "hideHardwareSpecs": false,
        "memoryGiB": 128,
        "name": "ml.m5.8xlarge",
        "vcpuNum": 32
      },
      {
        "_defaultOrder": 9,
        "_isFastLaunch": false,
        "category": "General purpose",
        "gpuNum": 0,
        "hideHardwareSpecs": false,
        "memoryGiB": 192,
        "name": "ml.m5.12xlarge",
        "vcpuNum": 48
      },
      {
        "_defaultOrder": 10,
        "_isFastLaunch": false,
        "category": "General purpose",
        "gpuNum": 0,
        "hideHardwareSpecs": false,
        "memoryGiB": 256,
        "name": "ml.m5.16xlarge",
        "vcpuNum": 64
      },
      {
        "_defaultOrder": 11,
        "_isFastLaunch": false,
        "category": "General purpose",
        "gpuNum": 0,
        "hideHardwareSpecs": false,
        "memoryGiB": 384,
        "name": "ml.m5.24xlarge",
        "vcpuNum": 96
      },
      {
        "_defaultOrder": 12,
        "_isFastLaunch": false,
        "category": "General purpose",
        "gpuNum": 0,
        "hideHardwareSpecs": false,
        "memoryGiB": 8,
        "name": "ml.m5d.large",
        "vcpuNum": 2
      },
      {
        "_defaultOrder": 13,
        "_isFastLaunch": false,
        "category": "General purpose",
        "gpuNum": 0,
        "hideHardwareSpecs": false,
        "memoryGiB": 16,
        "name": "ml.m5d.xlarge",
        "vcpuNum": 4
      },
      {
        "_defaultOrder": 14,
        "_isFastLaunch": false,
        "category": "General purpose",
        "gpuNum": 0,
        "hideHardwareSpecs": false,
        "memoryGiB": 32,
        "name": "ml.m5d.2xlarge",
        "vcpuNum": 8
      },
      {
        "_defaultOrder": 15,
        "_isFastLaunch": false,
        "category": "General purpose",
        "gpuNum": 0,
        "hideHardwareSpecs": false,
        "memoryGiB": 64,
        "name": "ml.m5d.4xlarge",
        "vcpuNum": 16
      },
      {
        "_defaultOrder": 16,
        "_isFastLaunch": false,
        "category": "General purpose",
        "gpuNum": 0,
        "hideHardwareSpecs": false,
        "memoryGiB": 128,
        "name": "ml.m5d.8xlarge",
        "vcpuNum": 32
      },
      {
        "_defaultOrder": 17,
        "_isFastLaunch": false,
        "category": "General purpose",
        "gpuNum": 0,
        "hideHardwareSpecs": false,
        "memoryGiB": 192,
        "name": "ml.m5d.12xlarge",
        "vcpuNum": 48
      },
      {
        "_defaultOrder": 18,
        "_isFastLaunch": false,
        "category": "General purpose",
        "gpuNum": 0,
        "hideHardwareSpecs": false,
        "memoryGiB": 256,
        "name": "ml.m5d.16xlarge",
        "vcpuNum": 64
      },
      {
        "_defaultOrder": 19,
        "_isFastLaunch": false,
        "category": "General purpose",
        "gpuNum": 0,
        "hideHardwareSpecs": false,
        "memoryGiB": 384,
        "name": "ml.m5d.24xlarge",
        "vcpuNum": 96
      },
      {
        "_defaultOrder": 20,
        "_isFastLaunch": false,
        "category": "General purpose",
        "gpuNum": 0,
        "hideHardwareSpecs": true,
        "memoryGiB": 0,
        "name": "ml.geospatial.interactive",
        "supportedImageNames": [
          "sagemaker-geospatial-v1-0"
        ],
        "vcpuNum": 0
      },
      {
        "_defaultOrder": 21,
        "_isFastLaunch": true,
        "category": "Compute optimized",
        "gpuNum": 0,
        "hideHardwareSpecs": false,
        "memoryGiB": 4,
        "name": "ml.c5.large",
        "vcpuNum": 2
      },
      {
        "_defaultOrder": 22,
        "_isFastLaunch": false,
        "category": "Compute optimized",
        "gpuNum": 0,
        "hideHardwareSpecs": false,
        "memoryGiB": 8,
        "name": "ml.c5.xlarge",
        "vcpuNum": 4
      },
      {
        "_defaultOrder": 23,
        "_isFastLaunch": false,
        "category": "Compute optimized",
        "gpuNum": 0,
        "hideHardwareSpecs": false,
        "memoryGiB": 16,
        "name": "ml.c5.2xlarge",
        "vcpuNum": 8
      },
      {
        "_defaultOrder": 24,
        "_isFastLaunch": false,
        "category": "Compute optimized",
        "gpuNum": 0,
        "hideHardwareSpecs": false,
        "memoryGiB": 32,
        "name": "ml.c5.4xlarge",
        "vcpuNum": 16
      },
      {
        "_defaultOrder": 25,
        "_isFastLaunch": false,
        "category": "Compute optimized",
        "gpuNum": 0,
        "hideHardwareSpecs": false,
        "memoryGiB": 72,
        "name": "ml.c5.9xlarge",
        "vcpuNum": 36
      },
      {
        "_defaultOrder": 26,
        "_isFastLaunch": false,
        "category": "Compute optimized",
        "gpuNum": 0,
        "hideHardwareSpecs": false,
        "memoryGiB": 96,
        "name": "ml.c5.12xlarge",
        "vcpuNum": 48
      },
      {
        "_defaultOrder": 27,
        "_isFastLaunch": false,
        "category": "Compute optimized",
        "gpuNum": 0,
        "hideHardwareSpecs": false,
        "memoryGiB": 144,
        "name": "ml.c5.18xlarge",
        "vcpuNum": 72
      },
      {
        "_defaultOrder": 28,
        "_isFastLaunch": false,
        "category": "Compute optimized",
        "gpuNum": 0,
        "hideHardwareSpecs": false,
        "memoryGiB": 192,
        "name": "ml.c5.24xlarge",
        "vcpuNum": 96
      },
      {
        "_defaultOrder": 29,
        "_isFastLaunch": true,
        "category": "Accelerated computing",
        "gpuNum": 1,
        "hideHardwareSpecs": false,
        "memoryGiB": 16,
        "name": "ml.g4dn.xlarge",
        "vcpuNum": 4
      },
      {
        "_defaultOrder": 30,
        "_isFastLaunch": false,
        "category": "Accelerated computing",
        "gpuNum": 1,
        "hideHardwareSpecs": false,
        "memoryGiB": 32,
        "name": "ml.g4dn.2xlarge",
        "vcpuNum": 8
      },
      {
        "_defaultOrder": 31,
        "_isFastLaunch": false,
        "category": "Accelerated computing",
        "gpuNum": 1,
        "hideHardwareSpecs": false,
        "memoryGiB": 64,
        "name": "ml.g4dn.4xlarge",
        "vcpuNum": 16
      },
      {
        "_defaultOrder": 32,
        "_isFastLaunch": false,
        "category": "Accelerated computing",
        "gpuNum": 1,
        "hideHardwareSpecs": false,
        "memoryGiB": 128,
        "name": "ml.g4dn.8xlarge",
        "vcpuNum": 32
      },
      {
        "_defaultOrder": 33,
        "_isFastLaunch": false,
        "category": "Accelerated computing",
        "gpuNum": 4,
        "hideHardwareSpecs": false,
        "memoryGiB": 192,
        "name": "ml.g4dn.12xlarge",
        "vcpuNum": 48
      },
      {
        "_defaultOrder": 34,
        "_isFastLaunch": false,
        "category": "Accelerated computing",
        "gpuNum": 1,
        "hideHardwareSpecs": false,
        "memoryGiB": 256,
        "name": "ml.g4dn.16xlarge",
        "vcpuNum": 64
      },
      {
        "_defaultOrder": 35,
        "_isFastLaunch": false,
        "category": "Accelerated computing",
        "gpuNum": 1,
        "hideHardwareSpecs": false,
        "memoryGiB": 61,
        "name": "ml.p3.2xlarge",
        "vcpuNum": 8
      },
      {
        "_defaultOrder": 36,
        "_isFastLaunch": false,
        "category": "Accelerated computing",
        "gpuNum": 4,
        "hideHardwareSpecs": false,
        "memoryGiB": 244,
        "name": "ml.p3.8xlarge",
        "vcpuNum": 32
      },
      {
        "_defaultOrder": 37,
        "_isFastLaunch": false,
        "category": "Accelerated computing",
        "gpuNum": 8,
        "hideHardwareSpecs": false,
        "memoryGiB": 488,
        "name": "ml.p3.16xlarge",
        "vcpuNum": 64
      },
      {
        "_defaultOrder": 38,
        "_isFastLaunch": false,
        "category": "Accelerated computing",
        "gpuNum": 8,
        "hideHardwareSpecs": false,
        "memoryGiB": 768,
        "name": "ml.p3dn.24xlarge",
        "vcpuNum": 96
      },
      {
        "_defaultOrder": 39,
        "_isFastLaunch": false,
        "category": "Memory Optimized",
        "gpuNum": 0,
        "hideHardwareSpecs": false,
        "memoryGiB": 16,
        "name": "ml.r5.large",
        "vcpuNum": 2
      },
      {
        "_defaultOrder": 40,
        "_isFastLaunch": false,
        "category": "Memory Optimized",
        "gpuNum": 0,
        "hideHardwareSpecs": false,
        "memoryGiB": 32,
        "name": "ml.r5.xlarge",
        "vcpuNum": 4
      },
      {
        "_defaultOrder": 41,
        "_isFastLaunch": false,
        "category": "Memory Optimized",
        "gpuNum": 0,
        "hideHardwareSpecs": false,
        "memoryGiB": 64,
        "name": "ml.r5.2xlarge",
        "vcpuNum": 8
      },
      {
        "_defaultOrder": 42,
        "_isFastLaunch": false,
        "category": "Memory Optimized",
        "gpuNum": 0,
        "hideHardwareSpecs": false,
        "memoryGiB": 128,
        "name": "ml.r5.4xlarge",
        "vcpuNum": 16
      },
      {
        "_defaultOrder": 43,
        "_isFastLaunch": false,
        "category": "Memory Optimized",
        "gpuNum": 0,
        "hideHardwareSpecs": false,
        "memoryGiB": 256,
        "name": "ml.r5.8xlarge",
        "vcpuNum": 32
      },
      {
        "_defaultOrder": 44,
        "_isFastLaunch": false,
        "category": "Memory Optimized",
        "gpuNum": 0,
        "hideHardwareSpecs": false,
        "memoryGiB": 384,
        "name": "ml.r5.12xlarge",
        "vcpuNum": 48
      },
      {
        "_defaultOrder": 45,
        "_isFastLaunch": false,
        "category": "Memory Optimized",
        "gpuNum": 0,
        "hideHardwareSpecs": false,
        "memoryGiB": 512,
        "name": "ml.r5.16xlarge",
        "vcpuNum": 64
      },
      {
        "_defaultOrder": 46,
        "_isFastLaunch": false,
        "category": "Memory Optimized",
        "gpuNum": 0,
        "hideHardwareSpecs": false,
        "memoryGiB": 768,
        "name": "ml.r5.24xlarge",
        "vcpuNum": 96
      },
      {
        "_defaultOrder": 47,
        "_isFastLaunch": false,
        "category": "Accelerated computing",
        "gpuNum": 1,
        "hideHardwareSpecs": false,
        "memoryGiB": 16,
        "name": "ml.g5.xlarge",
        "vcpuNum": 4
      },
      {
        "_defaultOrder": 48,
        "_isFastLaunch": false,
        "category": "Accelerated computing",
        "gpuNum": 1,
        "hideHardwareSpecs": false,
        "memoryGiB": 32,
        "name": "ml.g5.2xlarge",
        "vcpuNum": 8
      },
      {
        "_defaultOrder": 49,
        "_isFastLaunch": false,
        "category": "Accelerated computing",
        "gpuNum": 1,
        "hideHardwareSpecs": false,
        "memoryGiB": 64,
        "name": "ml.g5.4xlarge",
        "vcpuNum": 16
      },
      {
        "_defaultOrder": 50,
        "_isFastLaunch": false,
        "category": "Accelerated computing",
        "gpuNum": 1,
        "hideHardwareSpecs": false,
        "memoryGiB": 128,
        "name": "ml.g5.8xlarge",
        "vcpuNum": 32
      },
      {
        "_defaultOrder": 51,
        "_isFastLaunch": false,
        "category": "Accelerated computing",
        "gpuNum": 1,
        "hideHardwareSpecs": false,
        "memoryGiB": 256,
        "name": "ml.g5.16xlarge",
        "vcpuNum": 64
      },
      {
        "_defaultOrder": 52,
        "_isFastLaunch": false,
        "category": "Accelerated computing",
        "gpuNum": 4,
        "hideHardwareSpecs": false,
        "memoryGiB": 192,
        "name": "ml.g5.12xlarge",
        "vcpuNum": 48
      },
      {
        "_defaultOrder": 53,
        "_isFastLaunch": false,
        "category": "Accelerated computing",
        "gpuNum": 4,
        "hideHardwareSpecs": false,
        "memoryGiB": 384,
        "name": "ml.g5.24xlarge",
        "vcpuNum": 96
      },
      {
        "_defaultOrder": 54,
        "_isFastLaunch": false,
        "category": "Accelerated computing",
        "gpuNum": 8,
        "hideHardwareSpecs": false,
        "memoryGiB": 768,
        "name": "ml.g5.48xlarge",
        "vcpuNum": 192
      },
      {
        "_defaultOrder": 55,
        "_isFastLaunch": false,
        "category": "Accelerated computing",
        "gpuNum": 8,
        "hideHardwareSpecs": false,
        "memoryGiB": 1152,
        "name": "ml.p4d.24xlarge",
        "vcpuNum": 96
      },
      {
        "_defaultOrder": 56,
        "_isFastLaunch": false,
        "category": "Accelerated computing",
        "gpuNum": 8,
        "hideHardwareSpecs": false,
        "memoryGiB": 1152,
        "name": "ml.p4de.24xlarge",
        "vcpuNum": 96
      },
      {
        "_defaultOrder": 57,
        "_isFastLaunch": false,
        "category": "Accelerated computing",
        "gpuNum": 0,
        "hideHardwareSpecs": false,
        "memoryGiB": 32,
        "name": "ml.trn1.2xlarge",
        "vcpuNum": 8
      },
      {
        "_defaultOrder": 58,
        "_isFastLaunch": false,
        "category": "Accelerated computing",
        "gpuNum": 0,
        "hideHardwareSpecs": false,
        "memoryGiB": 512,
        "name": "ml.trn1.32xlarge",
        "vcpuNum": 128
      },
      {
        "_defaultOrder": 59,
        "_isFastLaunch": false,
        "category": "Accelerated computing",
        "gpuNum": 0,
        "hideHardwareSpecs": false,
        "memoryGiB": 512,
        "name": "ml.trn1n.32xlarge",
        "vcpuNum": 128
      }
    ],
    "instance_type": "ml.t3.medium",
    "kernelspec": {
      "name": "python",
      "display_name": "Python (Pyodide)",
      "language": "python"
    },
    "language_info": {
      "codemirror_mode": {
        "name": "python",
        "version": 3
      },
      "file_extension": ".py",
      "mimetype": "text/x-python",
      "name": "python",
      "nbconvert_exporter": "python",
      "pygments_lexer": "ipython3",
      "version": "3.8"
    }
  },
  "nbformat_minor": 4,
  "nbformat": 4,
  "cells": [
    {
      "cell_type": "markdown",
      "source": "# Hyperparameter Tuning\n> Yuanyuan Sun, 11/27/2023\n\nAutomated Hyperparameter Tuning is a feature supported by Amazon SageMaker, enabling the execution of numerous training jobs on the specified hyperparameter ranges within the user's training dataset. The optimal model candidate is determined by selecting the combination of hyperparameters that yields the highest objective metrics, such as maximizing validation accuracy.\n\nHere, I employ a random strategy for hyperparameter tuning, and the specific rationale is detailed in the project paper. For further details, please refer to the provided reference.\n\nNote: This is a separate exploration to determine how to conduct hyperparameter tuning at scale. The tuning and model training are integrated in the code script 'hyperparameter tuning & model training.ipynb'.",
      "metadata": {}
    },
    {
      "cell_type": "markdown",
      "source": "# 1. Configure Dataset",
      "metadata": {}
    },
    {
      "cell_type": "code",
      "source": "import boto3\nimport sagemaker\nimport pandas as pd\nimport botocore\n\nconfig = botocore.config.Config(user_agent_extra='')\n\n# low-level service client of the boto3 session\nsm = boto3.client(service_name='sagemaker', config=config)\nsess = sagemaker.Session(sagemaker_client=sm)\n\nbucket = sess.default_bucket()\nrole = sagemaker.get_execution_role()\nregion = sess.boto_region_name",
      "metadata": {},
      "execution_count": null,
      "outputs": []
    },
    {
      "cell_type": "code",
      "source": "train_data = 's3://{}/transformed/data/sentiment-train/'.format(bucket)\nvalidation_data = 's3://{}/transformed/data/sentiment-validation/'.format(bucket)\ntest_data = 's3://{}/transformed/data/sentiment-test/'.format(bucket)",
      "metadata": {
        "tags": []
      },
      "execution_count": 4,
      "outputs": []
    },
    {
      "cell_type": "code",
      "source": "# Upload the data to the data lake (S3 bucket):\n!aws s3 cp --recursive ./data/sentiment-train $train_data\n!aws s3 cp --recursive ./data/sentiment-validation $validation_data\n!aws s3 cp --recursive ./data/sentiment-test $test_data",
      "metadata": {
        "tags": []
      },
      "execution_count": 5,
      "outputs": [
        {
          "name": "stdout",
          "output_type": "stream",
          "text": "upload: data/sentiment-train/part-algo-1-womens_clothing_ecommerce_reviews.tsv to s3://sagemaker-us-east-1-106271089005/transformed/data/sentiment-train/part-algo-1-womens_clothing_ecommerce_reviews.tsv\n\nupload: data/sentiment-validation/part-algo-1-womens_clothing_ecommerce_reviews.tsv to s3://sagemaker-us-east-1-106271089005/transformed/data/sentiment-validation/part-algo-1-womens_clothing_ecommerce_reviews.tsv\n\nupload: data/sentiment-test/part-algo-1-womens_clothing_ecommerce_reviews.tsv to s3://sagemaker-us-east-1-106271089005/transformed/data/sentiment-test/part-algo-1-womens_clothing_ecommerce_reviews.tsv\n"
        }
      ]
    },
    {
      "cell_type": "code",
      "source": "# Check datasets that uploaded to S3 buckets\n!aws s3 ls --recursive $train_data",
      "metadata": {
        "tags": []
      },
      "execution_count": 6,
      "outputs": [
        {
          "name": "stdout",
          "output_type": "stream",
          "text": "2023-11-27 21:22:41    4894416 transformed/data/sentiment-train/part-algo-1-womens_clothing_ecommerce_reviews.tsv\n"
        }
      ]
    },
    {
      "cell_type": "code",
      "source": "!aws s3 ls --recursive $validation_data",
      "metadata": {
        "tags": []
      },
      "execution_count": 7,
      "outputs": [
        {
          "name": "stdout",
          "output_type": "stream",
          "text": "2023-11-27 21:22:42     276522 transformed/data/sentiment-validation/part-algo-1-womens_clothing_ecommerce_reviews.tsv\n"
        }
      ]
    },
    {
      "cell_type": "code",
      "source": "!aws s3 ls --recursive $test_data",
      "metadata": {
        "tags": []
      },
      "execution_count": 8,
      "outputs": [
        {
          "name": "stdout",
          "output_type": "stream",
          "text": "2023-11-27 21:22:43     273414 transformed/data/sentiment-test/part-algo-1-womens_clothing_ecommerce_reviews.tsv\n"
        }
      ]
    },
    {
      "cell_type": "code",
      "source": "# Define data channels with 'train' and 'validation' keys\nfrom sagemaker.inputs import TrainingInput\n\ndata_channels = {\n    'train': train_data, \n    'validation': validation_data \n}",
      "metadata": {
        "tags": []
      },
      "execution_count": 9,
      "outputs": []
    },
    {
      "cell_type": "markdown",
      "source": "",
      "metadata": {}
    },
    {
      "cell_type": "markdown",
      "source": "# 2. Configure Hyperparameter Tuning Job\nInitially, set up static hyperparameters, which include specifications such as instance type, instance count, maximum sequence length, and so on.",
      "metadata": {}
    },
    {
      "cell_type": "code",
      "source": "# maximum number of input tokens passed to BERT model\nmax_seq_length=128 \n# specifies the depth of training within the network\nfreeze_bert_layer=False \nepochs=3\ntrain_steps_per_epoch=50\nvalidation_batch_size=64\nvalidation_steps_per_epoch=50\nseed=42\n\ntrain_instance_count=1\ntrain_instance_type='ml.c5.9xlarge'\ntrain_volume_size=256\ninput_mode='File'\nrun_validation=True",
      "metadata": {
        "scrolled": true,
        "tags": []
      },
      "execution_count": 10,
      "outputs": []
    },
    {
      "cell_type": "code",
      "source": "'''\nCertain parameters from this set will be included in the hyperparameters argument for both \nthe PyTorch estimator and tuner. Set up the dictionary for the parameters that will be \nincluded in the hyperparameters argument\n'''\nhyperparameters_static={\n    'freeze_bert_layer': freeze_bert_layer,\n    'max_seq_length': max_seq_length,\n    'epochs': epochs,\n    'train_steps_per_epoch': train_steps_per_epoch,\n    'validation_batch_size': validation_batch_size,\n    'validation_steps_per_epoch': validation_steps_per_epoch,\n    'seed': seed,\n    'run_validation': run_validation\n}",
      "metadata": {
        "tags": []
      },
      "execution_count": 11,
      "outputs": []
    },
    {
      "cell_type": "code",
      "source": "# Define the ranges for hyperparameters to explore in the tuning job.\n\nfrom sagemaker.tuner import IntegerParameter\nfrom sagemaker.tuner import ContinuousParameter\nfrom sagemaker.tuner import CategoricalParameter\n                                                \nhyperparameter_ranges = {\n     # specifying continuous variable type, the tuning job will explore the range of values\n    'learning_rate': ContinuousParameter(0.00001, 0.00005, scaling_type='Linear'), \n     # specifying categorical variable type, the tuning job will explore only listed values\n    'train_batch_size': CategoricalParameter([128, 256]), \n}",
      "metadata": {
        "tags": []
      },
      "execution_count": 12,
      "outputs": []
    },
    {
      "cell_type": "code",
      "source": "# Select loss and accuracy as the evaluation metrics. \n# The regular expressions (Regex) will capture the emitted metric values from the algorithm.\nmetric_definitions = [\n     {'Name': 'validation:loss', 'Regex': 'val_loss: ([0-9.]+)'},\n     {'Name': 'validation:accuracy', 'Regex': 'val_acc: ([0-9.]+)'},\n]\n",
      "metadata": {
        "tags": [],
        "trusted": true
      },
      "execution_count": 1,
      "outputs": []
    },
    {
      "cell_type": "markdown",
      "source": "# 3. Initiate the Tuning Job",
      "metadata": {}
    },
    {
      "cell_type": "code",
      "source": "from sagemaker.pytorch import PyTorch as PyTorchEstimator\nestimator = PyTorchEstimator(\n    entry_point='train.py',\n    source_dir='src',\n    role=role,\n    instance_count=train_instance_count,\n    instance_type=train_instance_type,\n    volume_size=train_volume_size,\n    py_version='py3',\n    framework_version='1.6.0',\n    hyperparameters=hyperparameters_static,\n    metric_definitions=metric_definitions,\n    input_mode=input_mode,\n)",
      "metadata": {
        "tags": []
      },
      "execution_count": 14,
      "outputs": []
    },
    {
      "cell_type": "markdown",
      "source": "# 4. Employ a Random Search Strategy \nEmploy a Random search strategy to identify combinations of hyperparameters, within defined ranges, for each training job within the tuning process. Upon completion of the tuning job, we can choose the hyperparameters employed by the top-performing training job with respect to the objective metric.\n",
      "metadata": {}
    },
    {
      "cell_type": "code",
      "source": "# Set up the Hyperparameter Tuner.\nfrom sagemaker.tuner import HyperparameterTuner\n\ntuner = HyperparameterTuner(\n    estimator=estimator, \n    hyperparameter_ranges=hyperparameter_ranges, \n    metric_definitions=metric_definitions, \n    strategy='Random',\n    objective_type='Maximize',\n    objective_metric_name='validation:accuracy',\n    max_jobs=2, # maximum number of jobs to run\n    max_parallel_jobs=2, # maximum number of jobs to run in parallel\n    early_stopping_type='Auto' # early stopping criteria\n)",
      "metadata": {
        "tags": []
      },
      "execution_count": 15,
      "outputs": []
    },
    {
      "cell_type": "markdown",
      "source": "# 5. Launch the SageMaker Hyper-Parameter Tuning (HPT) Job.",
      "metadata": {}
    },
    {
      "cell_type": "code",
      "source": "tuner.fit(\n    inputs = data_channels, \n    include_cls_metadata = False,\n    wait=False\n)",
      "metadata": {
        "tags": []
      },
      "execution_count": 16,
      "outputs": []
    },
    {
      "cell_type": "markdown",
      "source": "# 6. Verify the status of the Tuning Job.",
      "metadata": {}
    },
    {
      "cell_type": "code",
      "source": "tuning_job_name = tuner.latest_tuning_job.job_name\nprint(tuning_job_name)",
      "metadata": {
        "scrolled": true,
        "tags": []
      },
      "execution_count": 17,
      "outputs": [
        {
          "name": "stdout",
          "output_type": "stream",
          "text": "pytorch-training-231127-2131\n"
        }
      ]
    },
    {
      "cell_type": "markdown",
      "source": "Check the status of the Tuning Job.",
      "metadata": {}
    },
    {
      "cell_type": "code",
      "source": "from IPython.core.display import display, HTML\n    \ndisplay(HTML('<b>Review <a target=\"blank\" href=\"https://console.aws.amazon.com/sagemaker/home?region={}#/hyper-tuning-jobs/{}\">Hyper-Parameter Tuning Job</a></b>'.format(region, tuning_job_name)))",
      "metadata": {
        "tags": []
      },
      "execution_count": 18,
      "outputs": [
        {
          "output_type": "display_data",
          "data": {
            "text/html": [
              "<b>Review <a target=\"blank\" href=\"https://console.aws.amazon.com/sagemaker/home?region=us-east-1#/hyper-tuning-jobs/pytorch-training-231127-2131\">Hyper-Parameter Tuning Job</a></b>"
            ],
            "text/plain": [
              "<IPython.core.display.HTML object>"
            ]
          },
          "metadata": {}
        }
      ]
    },
    {
      "cell_type": "markdown",
      "source": "Wait for the Tuning Job to complete.",
      "metadata": {}
    },
    {
      "cell_type": "code",
      "source": "%%time\n\ntuner.wait()",
      "metadata": {
        "tags": []
      },
      "execution_count": 19,
      "outputs": [
        {
          "name": "stdout",
          "output_type": "stream",
          "text": "...............................................................................................................................................................................................................................................................................................!\n\nCPU times: user 1.31 s, sys: 121 ms, total: 1.43 s\n\nWall time: 24min 35s\n"
        }
      ]
    },
    {
      "cell_type": "markdown",
      "source": "The outcomes of the SageMaker Hyperparameter Tuning Job can be accessed through the analytics of the tuner object. Utilizing the dataframe function directly converts the results into a dataframe. To explore the results, the following lines of code can be used:",
      "metadata": {}
    },
    {
      "cell_type": "code",
      "source": "import time\n\ntime.sleep(10) # slight delay to allow the analytics to be calculated\n\ndf_results = tuner.analytics().dataframe()\ndf_results.shape",
      "metadata": {
        "tags": []
      },
      "execution_count": 20,
      "outputs": [
        {
          "execution_count": 20,
          "output_type": "execute_result",
          "data": {
            "text/plain": [
              "(2, 8)"
            ]
          },
          "metadata": {}
        }
      ]
    },
    {
      "cell_type": "code",
      "source": "df_results.sort_values('FinalObjectiveValue', ascending=0)",
      "metadata": {
        "tags": []
      },
      "execution_count": 21,
      "outputs": [
        {
          "execution_count": 21,
          "output_type": "execute_result",
          "data": {
            "text/html": [
              "<div>\n",
              "<style scoped>\n",
              "    .dataframe tbody tr th:only-of-type {\n",
              "        vertical-align: middle;\n",
              "    }\n",
              "\n",
              "    .dataframe tbody tr th {\n",
              "        vertical-align: top;\n",
              "    }\n",
              "\n",
              "    .dataframe thead th {\n",
              "        text-align: right;\n",
              "    }\n",
              "</style>\n",
              "<table border=\"1\" class=\"dataframe\">\n",
              "  <thead>\n",
              "    <tr style=\"text-align: right;\">\n",
              "      <th></th>\n",
              "      <th>learning_rate</th>\n",
              "      <th>train_batch_size</th>\n",
              "      <th>TrainingJobName</th>\n",
              "      <th>TrainingJobStatus</th>\n",
              "      <th>FinalObjectiveValue</th>\n",
              "      <th>TrainingStartTime</th>\n",
              "      <th>TrainingEndTime</th>\n",
              "      <th>TrainingElapsedTimeSeconds</th>\n",
              "    </tr>\n",
              "  </thead>\n",
              "  <tbody>\n",
              "    <tr>\n",
              "      <th>1</th>\n",
              "      <td>0.000028</td>\n",
              "      <td>\"128\"</td>\n",
              "      <td>pytorch-training-231127-2131-001-a5e33943</td>\n",
              "      <td>Completed</td>\n",
              "      <td>73.440002</td>\n",
              "      <td>2023-11-27 21:33:17+00:00</td>\n",
              "      <td>2023-11-27 21:53:49+00:00</td>\n",
              "      <td>1232.0</td>\n",
              "    </tr>\n",
              "    <tr>\n",
              "      <th>0</th>\n",
              "      <td>0.000034</td>\n",
              "      <td>\"128\"</td>\n",
              "      <td>pytorch-training-231127-2131-002-770f4749</td>\n",
              "      <td>Completed</td>\n",
              "      <td>67.580002</td>\n",
              "      <td>2023-11-27 21:33:08+00:00</td>\n",
              "      <td>2023-11-27 21:53:49+00:00</td>\n",
              "      <td>1241.0</td>\n",
              "    </tr>\n",
              "  </tbody>\n",
              "</table>\n",
              "</div>"
            ],
            "text/plain": [
              "   learning_rate train_batch_size                            TrainingJobName  \\\n",
              "1       0.000028            \"128\"  pytorch-training-231127-2131-001-a5e33943   \n",
              "0       0.000034            \"128\"  pytorch-training-231127-2131-002-770f4749   \n",
              "\n",
              "  TrainingJobStatus  FinalObjectiveValue         TrainingStartTime  \\\n",
              "1         Completed            73.440002 2023-11-27 21:33:17+00:00   \n",
              "0         Completed            67.580002 2023-11-27 21:33:08+00:00   \n",
              "\n",
              "            TrainingEndTime  TrainingElapsedTimeSeconds  \n",
              "1 2023-11-27 21:53:49+00:00                      1232.0  \n",
              "0 2023-11-27 21:53:49+00:00                      1241.0  "
            ]
          },
          "metadata": {}
        }
      ]
    },
    {
      "cell_type": "markdown",
      "source": "In the context of large-scale training and tuning, ongoing monitoring and selecting appropriate compute resources are crucial. Although we have the flexibility to opt for various compute options, determining the specific instance types and sizes requires a case-by-case approach. There is no one-size-fits-all solution; it hinges on comprehending the workload and conducting empirical testing to ascertain the optimal compute resources for the training process.",
      "metadata": {}
    },
    {
      "cell_type": "code",
      "source": "from IPython.core.display import display, HTML\n    \ndisplay(HTML('<b>Review Training Jobs of the <a target=\"blank\" href=\"https://console.aws.amazon.com/sagemaker/home?region={}#/hyper-tuning-jobs/{}\">Hyper-Parameter Tuning Job</a></b>'.format(region, tuning_job_name)))",
      "metadata": {
        "tags": []
      },
      "execution_count": 23,
      "outputs": [
        {
          "output_type": "display_data",
          "data": {
            "text/html": [
              "<b>Review Training Jobs of the <a target=\"blank\" href=\"https://console.aws.amazon.com/sagemaker/home?region=us-east-1#/hyper-tuning-jobs/pytorch-training-231127-2131\">Hyper-Parameter Tuning Job</a></b>"
            ],
            "text/plain": [
              "<IPython.core.display.HTML object>"
            ]
          },
          "metadata": {}
        }
      ]
    },
    {
      "cell_type": "markdown",
      "source": "# 7. Evaluate the Results\n\nA critical aspect of model development involves assessing the model using a test dataset that it has not encountered during its training phase. The metrics derived from this evaluation serve as a basis for comparing different machine learning models. The greater the value of these metrics, the more effectively the model can generalize to new, unseen data.",
      "metadata": {}
    },
    {
      "cell_type": "code",
      "source": "# Show the best candidate - the one with the highest accuracy result.\ndf_results.sort_values(    \n    'FinalObjectiveValue', \n    ascending=0).head(1)",
      "metadata": {
        "tags": []
      },
      "execution_count": 24,
      "outputs": [
        {
          "execution_count": 24,
          "output_type": "execute_result",
          "data": {
            "text/html": [
              "<div>\n",
              "<style scoped>\n",
              "    .dataframe tbody tr th:only-of-type {\n",
              "        vertical-align: middle;\n",
              "    }\n",
              "\n",
              "    .dataframe tbody tr th {\n",
              "        vertical-align: top;\n",
              "    }\n",
              "\n",
              "    .dataframe thead th {\n",
              "        text-align: right;\n",
              "    }\n",
              "</style>\n",
              "<table border=\"1\" class=\"dataframe\">\n",
              "  <thead>\n",
              "    <tr style=\"text-align: right;\">\n",
              "      <th></th>\n",
              "      <th>learning_rate</th>\n",
              "      <th>train_batch_size</th>\n",
              "      <th>TrainingJobName</th>\n",
              "      <th>TrainingJobStatus</th>\n",
              "      <th>FinalObjectiveValue</th>\n",
              "      <th>TrainingStartTime</th>\n",
              "      <th>TrainingEndTime</th>\n",
              "      <th>TrainingElapsedTimeSeconds</th>\n",
              "    </tr>\n",
              "  </thead>\n",
              "  <tbody>\n",
              "    <tr>\n",
              "      <th>1</th>\n",
              "      <td>0.000028</td>\n",
              "      <td>\"128\"</td>\n",
              "      <td>pytorch-training-231127-2131-001-a5e33943</td>\n",
              "      <td>Completed</td>\n",
              "      <td>73.440002</td>\n",
              "      <td>2023-11-27 21:33:17+00:00</td>\n",
              "      <td>2023-11-27 21:53:49+00:00</td>\n",
              "      <td>1232.0</td>\n",
              "    </tr>\n",
              "  </tbody>\n",
              "</table>\n",
              "</div>"
            ],
            "text/plain": [
              "   learning_rate train_batch_size                            TrainingJobName  \\\n",
              "1       0.000028            \"128\"  pytorch-training-231127-2131-001-a5e33943   \n",
              "\n",
              "  TrainingJobStatus  FinalObjectiveValue         TrainingStartTime  \\\n",
              "1         Completed            73.440002 2023-11-27 21:33:17+00:00   \n",
              "\n",
              "            TrainingEndTime  TrainingElapsedTimeSeconds  \n",
              "1 2023-11-27 21:53:49+00:00                      1232.0  "
            ]
          },
          "metadata": {}
        }
      ]
    },
    {
      "cell_type": "code",
      "source": "# Evaluate the best candidate\n# The information about the best candidate from the dataframe and then take the Training Job name from the column `TrainingJobName`.\n\nbest_candidate = df_results.sort_values('FinalObjectiveValue', ascending=0).iloc[0]\n\nbest_candidate_training_job_name = best_candidate['TrainingJobName']\nprint('Best candidate Training Job name: {}'.format(best_candidate_training_job_name))",
      "metadata": {
        "tags": []
      },
      "execution_count": 25,
      "outputs": [
        {
          "name": "stdout",
          "output_type": "stream",
          "text": "Best candidate Training Job name: pytorch-training-231127-2131-001-a5e33943\n"
        }
      ]
    },
    {
      "cell_type": "markdown",
      "source": "# 8. Show accuracy result for the best candidate.",
      "metadata": {}
    },
    {
      "cell_type": "code",
      "source": "best_candidate_accuracy = best_candidate['FinalObjectiveValue'] \nprint('Best candidate accuracy result: {}'.format(best_candidate_accuracy))",
      "metadata": {
        "tags": []
      },
      "execution_count": 26,
      "outputs": [
        {
          "name": "stdout",
          "output_type": "stream",
          "text": "Best candidate accuracy result: 73.44000244140625\n"
        }
      ]
    },
    {
      "cell_type": "markdown",
      "source": "We can use the function `describe_training_job` of the service client to get some more information about the best candidate. The result is in dictionary format. Let's check that it has the same Training Job name:",
      "metadata": {}
    },
    {
      "cell_type": "code",
      "source": "best_candidate_description = sm.describe_training_job(TrainingJobName=best_candidate_training_job_name)\n\nbest_candidate_training_job_name2 = best_candidate_description['TrainingJobName']\n\nprint('Training Job name: {}'.format(best_candidate_training_job_name2))",
      "metadata": {
        "tags": []
      },
      "execution_count": 27,
      "outputs": [
        {
          "name": "stdout",
          "output_type": "stream",
          "text": "Training Job name: pytorch-training-231127-2131-001-a5e33943\n"
        }
      ]
    },
    {
      "cell_type": "markdown",
      "source": "Pull the Tuning Job and Training Job Amazon Resource Name (ARN) from the best candidate training job description.",
      "metadata": {}
    },
    {
      "cell_type": "code",
      "source": "print(best_candidate_description.keys())",
      "metadata": {},
      "execution_count": null,
      "outputs": []
    },
    {
      "cell_type": "code",
      "source": "best_candidate_tuning_job_arn = best_candidate_description['TuningJobArn'] \nbest_candidate_training_job_arn = best_candidate_description['TrainingJobArn'] \nprint('Best candidate Tuning Job ARN: {}'.format(best_candidate_tuning_job_arn))\nprint('Best candidate Training Job ARN: {}'.format(best_candidate_training_job_arn))",
      "metadata": {
        "tags": []
      },
      "execution_count": 28,
      "outputs": [
        {
          "name": "stdout",
          "output_type": "stream",
          "text": "Best candidate Tuning Job ARN: arn:aws:sagemaker:us-east-1:106271089005:hyper-parameter-tuning-job/pytorch-training-231127-2131\n\nBest candidate Training Job ARN: arn:aws:sagemaker:us-east-1:106271089005:training-job/pytorch-training-231127-2131-001-a5e33943\n"
        }
      ]
    },
    {
      "cell_type": "markdown",
      "source": "Pull the path of the best candidate model in the S3 bucket. We will need it later to set up the Processing Job for the evaluation.",
      "metadata": {}
    },
    {
      "cell_type": "code",
      "source": "model_tar_s3_uri = sm.describe_training_job(TrainingJobName=best_candidate_training_job_name)['ModelArtifacts']['S3ModelArtifacts']\nprint(model_tar_s3_uri)",
      "metadata": {
        "tags": []
      },
      "execution_count": 29,
      "outputs": [
        {
          "name": "stdout",
          "output_type": "stream",
          "text": "s3://sagemaker-us-east-1-106271089005/pytorch-training-231127-2131-001-a5e33943/output/model.tar.gz\n"
        }
      ]
    },
    {
      "cell_type": "markdown",
      "source": "For conducting model evaluation, we will employ a Processing Job built on scikit-learn. This constitutes a versatile Python Processing Job with pre-installed scikit-learn. We have the flexibility to indicate the desired version of scikit-learn. Additionally, the SageMaker execution role, processing instance type, and instance count need to be provided.",
      "metadata": {}
    },
    {
      "cell_type": "code",
      "source": "from sagemaker.sklearn.processing import SKLearnProcessor\n\nprocessing_instance_type = \"ml.c5.2xlarge\"\nprocessing_instance_count = 1\n\nprocessor = SKLearnProcessor(\n    framework_version=\"0.23-1\",\n    role=role,\n    instance_type=processing_instance_type,\n    instance_count=processing_instance_count,\n    max_runtime_in_seconds=7200,\n)",
      "metadata": {
        "tags": []
      },
      "execution_count": 30,
      "outputs": []
    },
    {
      "cell_type": "markdown",
      "source": "The model evaluation Processing Job will be running the Python code from the file [src/evaluate_model_metrics.py](src/evaluate_model_metrics.py). Launch the Processing Job, passing the defined above parameters, custom script, path and the S3 bucket location of the test data.",
      "metadata": {}
    },
    {
      "cell_type": "code",
      "source": "from sagemaker.processing import ProcessingInput, ProcessingOutput\n\nprocessor.run(\n    code=\"src/evaluate_model_metrics.py\",\n    inputs=[\n        ProcessingInput(  \n            input_name=\"model-tar-s3-uri\",                        \n            source=model_tar_s3_uri,                               \n            destination=\"/opt/ml/processing/input/model/\"\n        ),\n        ProcessingInput(\n            input_name=\"evaluation-data-s3-uri\",\n            source=test_data,                                    \n            destination=\"/opt/ml/processing/input/data/\",\n        ),\n    ],\n    outputs=[\n        ProcessingOutput(s3_upload_mode=\"EndOfJob\", output_name=\"metrics\", source=\"/opt/ml/processing/output/metrics\"),\n    ],\n    arguments=[\"--max-seq-length\", str(max_seq_length)],\n    logs=True,\n    wait=False,\n)",
      "metadata": {
        "tags": []
      },
      "execution_count": 31,
      "outputs": [
        {
          "name": "stdout",
          "output_type": "stream",
          "text": "\n\nJob Name:  sagemaker-scikit-learn-2023-11-27-21-59-50-944\n\nInputs:  [{'InputName': 'model-tar-s3-uri', 'AppManaged': False, 'S3Input': {'S3Uri': 's3://sagemaker-us-east-1-106271089005/pytorch-training-231127-2131-001-a5e33943/output/model.tar.gz', 'LocalPath': '/opt/ml/processing/input/model/', 'S3DataType': 'S3Prefix', 'S3InputMode': 'File', 'S3DataDistributionType': 'FullyReplicated', 'S3CompressionType': 'None'}}, {'InputName': 'evaluation-data-s3-uri', 'AppManaged': False, 'S3Input': {'S3Uri': 's3://sagemaker-us-east-1-106271089005/transformed/data/sentiment-test/', 'LocalPath': '/opt/ml/processing/input/data/', 'S3DataType': 'S3Prefix', 'S3InputMode': 'File', 'S3DataDistributionType': 'FullyReplicated', 'S3CompressionType': 'None'}}, {'InputName': 'code', 'AppManaged': False, 'S3Input': {'S3Uri': 's3://sagemaker-us-east-1-106271089005/sagemaker-scikit-learn-2023-11-27-21-59-50-944/input/code/evaluate_model_metrics.py', 'LocalPath': '/opt/ml/processing/input/code', 'S3DataType': 'S3Prefix', 'S3InputMode': 'File', 'S3DataDistributionType': 'FullyReplicated', 'S3CompressionType': 'None'}}]\n\nOutputs:  [{'OutputName': 'metrics', 'AppManaged': False, 'S3Output': {'S3Uri': 's3://sagemaker-us-east-1-106271089005/sagemaker-scikit-learn-2023-11-27-21-59-50-944/output/metrics', 'LocalPath': '/opt/ml/processing/output/metrics', 'S3UploadMode': 'EndOfJob'}}]\n"
        }
      ]
    },
    {
      "cell_type": "markdown",
      "source": "You can see the information about the Processing Jobs using the `describe` function. The result is in dictionary format. Let's pull the Processing Job name:",
      "metadata": {}
    },
    {
      "cell_type": "code",
      "source": "scikit_processing_job_name = processor.jobs[-1].describe()[\"ProcessingJobName\"]\n\nprint('Processing Job name: {}'.format(scikit_processing_job_name))",
      "metadata": {
        "tags": []
      },
      "execution_count": 32,
      "outputs": [
        {
          "name": "stdout",
          "output_type": "stream",
          "text": "Processing Job name: sagemaker-scikit-learn-2023-11-27-21-59-50-944\n"
        }
      ]
    },
    {
      "cell_type": "markdown",
      "source": "# 9. Pull the Processing Job status from the Processing Job description.\n\nPrint the keys of the Processing Job description dictionary, choose the one related to the status of the Processing Job and print the value of it.",
      "metadata": {
        "tags": []
      }
    },
    {
      "cell_type": "code",
      "source": "print(processor.jobs[-1].describe().keys())",
      "metadata": {
        "tags": []
      },
      "execution_count": 33,
      "outputs": [
        {
          "name": "stdout",
          "output_type": "stream",
          "text": "dict_keys(['ProcessingInputs', 'ProcessingOutputConfig', 'ProcessingJobName', 'ProcessingResources', 'StoppingCondition', 'AppSpecification', 'RoleArn', 'ProcessingJobArn', 'ProcessingJobStatus', 'LastModifiedTime', 'CreationTime', 'ResponseMetadata'])\n"
        }
      ]
    },
    {
      "cell_type": "code",
      "source": "scikit_processing_job_status = processor.jobs[-1].describe()['ProcessingJobStatus']\nprint('Processing job status: {}'.format(scikit_processing_job_status))",
      "metadata": {
        "tags": []
      },
      "execution_count": 34,
      "outputs": [
        {
          "name": "stdout",
          "output_type": "stream",
          "text": "Processing job status: InProgress\n"
        }
      ]
    },
    {
      "cell_type": "code",
      "source": "from IPython.core.display import display, HTML\n\ndisplay(\n    HTML(\n        '<b>Review <a target=\"blank\" href=\"https://console.aws.amazon.com/sagemaker/home?region={}#/processing-jobs/{}\">Processing Job</a></b>'.format(\n            region, scikit_processing_job_name\n        )\n    )\n)",
      "metadata": {
        "tags": []
      },
      "execution_count": 35,
      "outputs": [
        {
          "output_type": "display_data",
          "data": {
            "text/html": [
              "<b>Review <a target=\"blank\" href=\"https://console.aws.amazon.com/sagemaker/home?region=us-east-1#/processing-jobs/sagemaker-scikit-learn-2023-11-27-21-59-50-944\">Processing Job</a></b>"
            ],
            "text/plain": [
              "<IPython.core.display.HTML object>"
            ]
          },
          "metadata": {}
        }
      ]
    },
    {
      "cell_type": "code",
      "source": "# Monitor the Processing Job\n\nfrom pprint import pprint\n\nrunning_processor = sagemaker.processing.ProcessingJob.from_processing_name(\n    processing_job_name=scikit_processing_job_name, sagemaker_session=sess\n)\n\nprocessing_job_description = running_processor.describe()\n\npprint(processing_job_description)",
      "metadata": {
        "tags": []
      },
      "execution_count": 38,
      "outputs": [
        {
          "name": "stdout",
          "output_type": "stream",
          "text": "{'AppSpecification': {'ContainerArguments': ['--max-seq-length', '128'],\n\n                      'ContainerEntrypoint': ['python3',\n\n                                              '/opt/ml/processing/input/code/evaluate_model_metrics.py'],\n\n                      'ImageUri': '683313688378.dkr.ecr.us-east-1.amazonaws.com/sagemaker-scikit-learn:0.23-1-cpu-py3'},\n\n 'CreationTime': datetime.datetime(2023, 11, 27, 21, 59, 51, 424000, tzinfo=tzlocal()),\n\n 'LastModifiedTime': datetime.datetime(2023, 11, 27, 21, 59, 52, 49000, tzinfo=tzlocal()),\n\n 'ProcessingInputs': [{'AppManaged': False,\n\n                       'InputName': 'model-tar-s3-uri',\n\n                       'S3Input': {'LocalPath': '/opt/ml/processing/input/model/',\n\n                                   'S3CompressionType': 'None',\n\n                                   'S3DataDistributionType': 'FullyReplicated',\n\n                                   'S3DataType': 'S3Prefix',\n\n                                   'S3InputMode': 'File',\n\n                                   'S3Uri': 's3://sagemaker-us-east-1-106271089005/pytorch-training-231127-2131-001-a5e33943/output/model.tar.gz'}},\n\n                      {'AppManaged': False,\n\n                       'InputName': 'evaluation-data-s3-uri',\n\n                       'S3Input': {'LocalPath': '/opt/ml/processing/input/data/',\n\n                                   'S3CompressionType': 'None',\n\n                                   'S3DataDistributionType': 'FullyReplicated',\n\n                                   'S3DataType': 'S3Prefix',\n\n                                   'S3InputMode': 'File',\n\n                                   'S3Uri': 's3://sagemaker-us-east-1-106271089005/transformed/data/sentiment-test/'}},\n\n                      {'AppManaged': False,\n\n                       'InputName': 'code',\n\n                       'S3Input': {'LocalPath': '/opt/ml/processing/input/code',\n\n                                   'S3CompressionType': 'None',\n\n                                   'S3DataDistributionType': 'FullyReplicated',\n\n                                   'S3DataType': 'S3Prefix',\n\n                                   'S3InputMode': 'File',\n\n                                   'S3Uri': 's3://sagemaker-us-east-1-106271089005/sagemaker-scikit-learn-2023-11-27-21-59-50-944/input/code/evaluate_model_metrics.py'}}],\n\n 'ProcessingJobArn': 'arn:aws:sagemaker:us-east-1:106271089005:processing-job/sagemaker-scikit-learn-2023-11-27-21-59-50-944',\n\n 'ProcessingJobName': 'sagemaker-scikit-learn-2023-11-27-21-59-50-944',\n\n 'ProcessingJobStatus': 'InProgress',\n\n 'ProcessingOutputConfig': {'Outputs': [{'AppManaged': False,\n\n                                         'OutputName': 'metrics',\n\n                                         'S3Output': {'LocalPath': '/opt/ml/processing/output/metrics',\n\n                                                      'S3UploadMode': 'EndOfJob',\n\n                                                      'S3Uri': 's3://sagemaker-us-east-1-106271089005/sagemaker-scikit-learn-2023-11-27-21-59-50-944/output/metrics'}}]},\n\n 'ProcessingResources': {'ClusterConfig': {'InstanceCount': 1,\n\n                                           'InstanceType': 'ml.c5.2xlarge',\n\n                                           'VolumeSizeInGB': 30}},\n\n 'ResponseMetadata': {'HTTPHeaders': {'content-length': '2328',\n\n                                      'content-type': 'application/x-amz-json-1.1',\n\n                                      'date': 'Mon, 27 Nov 2023 22:00:44 GMT',\n\n                                      'x-amzn-requestid': '9be9b9cf-4d3d-4b56-acf0-b39d38896756'},\n\n                      'HTTPStatusCode': 200,\n\n                      'RequestId': '9be9b9cf-4d3d-4b56-acf0-b39d38896756',\n\n                      'RetryAttempts': 0},\n\n 'RoleArn': 'arn:aws:iam::106271089005:role/sagemaker-studio-vpc-firewall-us-east-1-sagemaker-execution-role',\n\n 'StoppingCondition': {'MaxRuntimeInSeconds': 7200}}\n"
        }
      ]
    },
    {
      "cell_type": "code",
      "source": "%%time\n\nrunning_processor.wait(logs=False)",
      "metadata": {
        "tags": []
      },
      "execution_count": 39,
      "outputs": [
        {
          "name": "stdout",
          "output_type": "stream",
          "text": "....................................................................!CPU times: user 306 ms, sys: 25.2 ms, total: 331 ms\n\nWall time: 5min 44s\n"
        }
      ]
    },
    {
      "cell_type": "markdown",
      "source": "# 10. Inspect the processed output data",
      "metadata": {}
    },
    {
      "cell_type": "code",
      "source": "# Take a look at the results of the Processing Job. Get the S3 bucket location of the output metrics:\nprocessing_job_description = running_processor.describe()\n\noutput_config = processing_job_description[\"ProcessingOutputConfig\"]\nfor output in output_config[\"Outputs\"]:\n    if output[\"OutputName\"] == \"metrics\":\n        processed_metrics_s3_uri = output[\"S3Output\"][\"S3Uri\"]\n\nprint(processed_metrics_s3_uri)",
      "metadata": {
        "tags": []
      },
      "execution_count": 40,
      "outputs": [
        {
          "name": "stdout",
          "output_type": "stream",
          "text": "s3://sagemaker-us-east-1-106271089005/sagemaker-scikit-learn-2023-11-27-21-59-50-944/output/metrics\n"
        }
      ]
    },
    {
      "cell_type": "markdown",
      "source": "List the content of the folder:",
      "metadata": {}
    },
    {
      "cell_type": "code",
      "source": "!aws s3 ls $processed_metrics_s3_uri/",
      "metadata": {
        "tags": []
      },
      "execution_count": 41,
      "outputs": [
        {
          "name": "stdout",
          "output_type": "stream",
          "text": "2023-11-27 22:06:27      19721 confusion_matrix.png\n\n2023-11-27 22:06:27         56 evaluation.json\n"
        }
      ]
    },
    {
      "cell_type": "markdown",
      "source": "",
      "metadata": {}
    },
    {
      "cell_type": "code",
      "source": "# The test accuracy can be extracted from the evaluation.json file.\n\nimport json\nfrom pprint import pprint\n\nmetrics_json = sagemaker.s3.S3Downloader.read_file(\"{}/evaluation.json\".format(\n    processed_metrics_s3_uri\n))\n\nprint('Test accuracy: {}'.format(json.loads(metrics_json)))",
      "metadata": {
        "tags": []
      },
      "execution_count": 42,
      "outputs": [
        {
          "name": "stdout",
          "output_type": "stream",
          "text": "Test accuracy: {'metrics': {'accuracy': {'value': 0.7540453074433657}}}\n"
        }
      ]
    },
    {
      "cell_type": "markdown",
      "source": "Copy image with the confusion matrix generated during the model evaluation into the folder `generated`.",
      "metadata": {}
    },
    {
      "cell_type": "code",
      "source": "!aws s3 cp $processed_metrics_s3_uri/confusion_matrix.png ./generated/\n\nimport time\ntime.sleep(10) # Slight delay for our notebook to recognize the newly-downloaded file",
      "metadata": {
        "tags": []
      },
      "execution_count": 43,
      "outputs": [
        {
          "name": "stdout",
          "output_type": "stream",
          "text": "download: s3://sagemaker-us-east-1-106271089005/sagemaker-scikit-learn-2023-11-27-21-59-50-944/output/metrics/confusion_matrix.png to generated/confusion_matrix.png\n"
        }
      ]
    },
    {
      "cell_type": "markdown",
      "source": "Show and review the confusion matrix, which is a table of all combinations of true (actual) and predicted labels. Each cell contains the number of the reviews for the corresponding sentiments. You can see that the highest numbers of the reviews appear in the diagonal cells, where the predicted sentiment equals the actual one.<br>\nNote: I put the related output files (`confusion_matrix.png`, `evaluation.json`) in ./code-hyperparameter tuning/output",
      "metadata": {}
    },
    {
      "cell_type": "code",
      "source": "",
      "metadata": {},
      "execution_count": null,
      "outputs": []
    }
  ]
}